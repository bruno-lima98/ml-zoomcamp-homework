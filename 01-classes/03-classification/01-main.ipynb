{
 "cells": [
  {
   "cell_type": "markdown",
   "id": "bb4db22e",
   "metadata": {},
   "source": [
    "### 1. Getting Data"
   ]
  },
  {
   "cell_type": "code",
   "execution_count": 36,
   "id": "b6ecf69b-e26e-48cd-9b53-612a19dc49e9",
   "metadata": {},
   "outputs": [],
   "source": [
    "import pandas as pd\n",
    "import numpy as np\n",
    "import matplotlib.pyplot as plt\n",
    "\n",
    "pd.set_option('display.max_columns',None) # exibir todas as colunas do meu df\n",
    "pd.set_option(\"display.max_seq_items\", None) # exibir todas as linhas no meu for"
   ]
  },
  {
   "cell_type": "code",
   "execution_count": 6,
   "id": "5b8207f5",
   "metadata": {},
   "outputs": [],
   "source": [
    "#data = 'https://raw.githubusercontent.com/bruno-lima98/ml-zoomcamp-homework/refs/heads/main/01-classes/03-classification/telco_data.csv'\n",
    "#!wget $data -O telco_data.csv"
   ]
  },
  {
   "cell_type": "code",
   "execution_count": 3,
   "id": "e6253b71",
   "metadata": {},
   "outputs": [],
   "source": [
    "df = pd.read_csv('telco_data.csv')"
   ]
  },
  {
   "cell_type": "markdown",
   "id": "718460f6",
   "metadata": {},
   "source": [
    "### 2. Data Prep"
   ]
  },
  {
   "cell_type": "code",
   "execution_count": 4,
   "id": "a390f596",
   "metadata": {},
   "outputs": [],
   "source": [
    "# Padronizamos a escrita das colunas, títulos e informações\n",
    "\n",
    "df.columns = df.columns.str.lower().str.replace(' ','_')\n",
    "categorical_colums = list(df.dtypes[df.dtypes == 'object'].index)\n",
    "\n",
    "for i in categorical_colums:\n",
    "    df[i] = df[i].str.lower().str.replace(' ','_')"
   ]
  },
  {
   "cell_type": "code",
   "execution_count": 5,
   "id": "2ad83d4a",
   "metadata": {},
   "outputs": [],
   "source": [
    "# Ajustamos a coluna totalcharges que é número mas estava como string por possuir espaços vazios\n",
    "\n",
    "df['totalcharges'] = pd.to_numeric(df['totalcharges'].str.replace('_','0'))"
   ]
  },
  {
   "cell_type": "code",
   "execution_count": 6,
   "id": "5bb56430",
   "metadata": {},
   "outputs": [],
   "source": [
    "# Ajustamos nossa variável target binária para 0/1 no lugar yes/no\n",
    "\n",
    "df['churn'] = (df['churn'] == 'yes').astype('int')"
   ]
  },
  {
   "cell_type": "code",
   "execution_count": 7,
   "id": "9a157483",
   "metadata": {},
   "outputs": [
    {
     "data": {
      "text/html": [
       "<div>\n",
       "<style scoped>\n",
       "    .dataframe tbody tr th:only-of-type {\n",
       "        vertical-align: middle;\n",
       "    }\n",
       "\n",
       "    .dataframe tbody tr th {\n",
       "        vertical-align: top;\n",
       "    }\n",
       "\n",
       "    .dataframe thead th {\n",
       "        text-align: right;\n",
       "    }\n",
       "</style>\n",
       "<table border=\"1\" class=\"dataframe\">\n",
       "  <thead>\n",
       "    <tr style=\"text-align: right;\">\n",
       "      <th></th>\n",
       "      <th>customerid</th>\n",
       "      <th>gender</th>\n",
       "      <th>seniorcitizen</th>\n",
       "      <th>partner</th>\n",
       "      <th>dependents</th>\n",
       "      <th>tenure</th>\n",
       "      <th>phoneservice</th>\n",
       "      <th>multiplelines</th>\n",
       "      <th>internetservice</th>\n",
       "      <th>onlinesecurity</th>\n",
       "      <th>onlinebackup</th>\n",
       "      <th>deviceprotection</th>\n",
       "      <th>techsupport</th>\n",
       "      <th>streamingtv</th>\n",
       "      <th>streamingmovies</th>\n",
       "      <th>contract</th>\n",
       "      <th>paperlessbilling</th>\n",
       "      <th>paymentmethod</th>\n",
       "      <th>monthlycharges</th>\n",
       "      <th>totalcharges</th>\n",
       "      <th>churn</th>\n",
       "    </tr>\n",
       "  </thead>\n",
       "  <tbody>\n",
       "    <tr>\n",
       "      <th>0</th>\n",
       "      <td>7590-vhveg</td>\n",
       "      <td>female</td>\n",
       "      <td>0</td>\n",
       "      <td>yes</td>\n",
       "      <td>no</td>\n",
       "      <td>1</td>\n",
       "      <td>no</td>\n",
       "      <td>no_phone_service</td>\n",
       "      <td>dsl</td>\n",
       "      <td>no</td>\n",
       "      <td>yes</td>\n",
       "      <td>no</td>\n",
       "      <td>no</td>\n",
       "      <td>no</td>\n",
       "      <td>no</td>\n",
       "      <td>month-to-month</td>\n",
       "      <td>yes</td>\n",
       "      <td>electronic_check</td>\n",
       "      <td>29.85</td>\n",
       "      <td>29.85</td>\n",
       "      <td>0</td>\n",
       "    </tr>\n",
       "    <tr>\n",
       "      <th>1</th>\n",
       "      <td>5575-gnvde</td>\n",
       "      <td>male</td>\n",
       "      <td>0</td>\n",
       "      <td>no</td>\n",
       "      <td>no</td>\n",
       "      <td>34</td>\n",
       "      <td>yes</td>\n",
       "      <td>no</td>\n",
       "      <td>dsl</td>\n",
       "      <td>yes</td>\n",
       "      <td>no</td>\n",
       "      <td>yes</td>\n",
       "      <td>no</td>\n",
       "      <td>no</td>\n",
       "      <td>no</td>\n",
       "      <td>one_year</td>\n",
       "      <td>no</td>\n",
       "      <td>mailed_check</td>\n",
       "      <td>56.95</td>\n",
       "      <td>1889.50</td>\n",
       "      <td>0</td>\n",
       "    </tr>\n",
       "    <tr>\n",
       "      <th>2</th>\n",
       "      <td>3668-qpybk</td>\n",
       "      <td>male</td>\n",
       "      <td>0</td>\n",
       "      <td>no</td>\n",
       "      <td>no</td>\n",
       "      <td>2</td>\n",
       "      <td>yes</td>\n",
       "      <td>no</td>\n",
       "      <td>dsl</td>\n",
       "      <td>yes</td>\n",
       "      <td>yes</td>\n",
       "      <td>no</td>\n",
       "      <td>no</td>\n",
       "      <td>no</td>\n",
       "      <td>no</td>\n",
       "      <td>month-to-month</td>\n",
       "      <td>yes</td>\n",
       "      <td>mailed_check</td>\n",
       "      <td>53.85</td>\n",
       "      <td>108.15</td>\n",
       "      <td>1</td>\n",
       "    </tr>\n",
       "    <tr>\n",
       "      <th>3</th>\n",
       "      <td>7795-cfocw</td>\n",
       "      <td>male</td>\n",
       "      <td>0</td>\n",
       "      <td>no</td>\n",
       "      <td>no</td>\n",
       "      <td>45</td>\n",
       "      <td>no</td>\n",
       "      <td>no_phone_service</td>\n",
       "      <td>dsl</td>\n",
       "      <td>yes</td>\n",
       "      <td>no</td>\n",
       "      <td>yes</td>\n",
       "      <td>yes</td>\n",
       "      <td>no</td>\n",
       "      <td>no</td>\n",
       "      <td>one_year</td>\n",
       "      <td>no</td>\n",
       "      <td>bank_transfer_(automatic)</td>\n",
       "      <td>42.30</td>\n",
       "      <td>1840.75</td>\n",
       "      <td>0</td>\n",
       "    </tr>\n",
       "    <tr>\n",
       "      <th>4</th>\n",
       "      <td>9237-hqitu</td>\n",
       "      <td>female</td>\n",
       "      <td>0</td>\n",
       "      <td>no</td>\n",
       "      <td>no</td>\n",
       "      <td>2</td>\n",
       "      <td>yes</td>\n",
       "      <td>no</td>\n",
       "      <td>fiber_optic</td>\n",
       "      <td>no</td>\n",
       "      <td>no</td>\n",
       "      <td>no</td>\n",
       "      <td>no</td>\n",
       "      <td>no</td>\n",
       "      <td>no</td>\n",
       "      <td>month-to-month</td>\n",
       "      <td>yes</td>\n",
       "      <td>electronic_check</td>\n",
       "      <td>70.70</td>\n",
       "      <td>151.65</td>\n",
       "      <td>1</td>\n",
       "    </tr>\n",
       "  </tbody>\n",
       "</table>\n",
       "</div>"
      ],
      "text/plain": [
       "   customerid  gender  seniorcitizen partner dependents  tenure phoneservice  \\\n",
       "0  7590-vhveg  female              0     yes         no       1           no   \n",
       "1  5575-gnvde    male              0      no         no      34          yes   \n",
       "2  3668-qpybk    male              0      no         no       2          yes   \n",
       "3  7795-cfocw    male              0      no         no      45           no   \n",
       "4  9237-hqitu  female              0      no         no       2          yes   \n",
       "\n",
       "      multiplelines internetservice onlinesecurity onlinebackup  \\\n",
       "0  no_phone_service             dsl             no          yes   \n",
       "1                no             dsl            yes           no   \n",
       "2                no             dsl            yes          yes   \n",
       "3  no_phone_service             dsl            yes           no   \n",
       "4                no     fiber_optic             no           no   \n",
       "\n",
       "  deviceprotection techsupport streamingtv streamingmovies        contract  \\\n",
       "0               no          no          no              no  month-to-month   \n",
       "1              yes          no          no              no        one_year   \n",
       "2               no          no          no              no  month-to-month   \n",
       "3              yes         yes          no              no        one_year   \n",
       "4               no          no          no              no  month-to-month   \n",
       "\n",
       "  paperlessbilling              paymentmethod  monthlycharges  totalcharges  \\\n",
       "0              yes           electronic_check           29.85         29.85   \n",
       "1               no               mailed_check           56.95       1889.50   \n",
       "2              yes               mailed_check           53.85        108.15   \n",
       "3               no  bank_transfer_(automatic)           42.30       1840.75   \n",
       "4              yes           electronic_check           70.70        151.65   \n",
       "\n",
       "   churn  \n",
       "0      0  \n",
       "1      0  \n",
       "2      1  \n",
       "3      0  \n",
       "4      1  "
      ]
     },
     "execution_count": 7,
     "metadata": {},
     "output_type": "execute_result"
    }
   ],
   "source": [
    "df.head()"
   ]
  },
  {
   "cell_type": "markdown",
   "id": "34f5c487",
   "metadata": {},
   "source": [
    "### 3. Setting up Validation Framework"
   ]
  },
  {
   "cell_type": "code",
   "execution_count": 8,
   "id": "2be00eb4",
   "metadata": {},
   "outputs": [],
   "source": [
    "from sklearn.model_selection import train_test_split\n",
    "# Separamos o nosso dataset em Treino, Validação e Teste usando uma biblioteca diretamente"
   ]
  },
  {
   "cell_type": "code",
   "execution_count": 9,
   "id": "0ec9162e",
   "metadata": {},
   "outputs": [],
   "source": [
    "df_full_train, df_test = train_test_split(df, test_size=0.2, random_state=1)"
   ]
  },
  {
   "cell_type": "code",
   "execution_count": 10,
   "id": "35e797ee",
   "metadata": {},
   "outputs": [],
   "source": [
    "df_train, df_val = train_test_split(df_full_train, test_size=0.25, random_state=1)"
   ]
  },
  {
   "cell_type": "code",
   "execution_count": 11,
   "id": "48ab77db",
   "metadata": {},
   "outputs": [
    {
     "data": {
      "text/plain": [
       "(5634, 4225, 1409, 1409)"
      ]
     },
     "execution_count": 11,
     "metadata": {},
     "output_type": "execute_result"
    }
   ],
   "source": [
    "len(df_full_train), len(df_train), len(df_test), len(df_val)"
   ]
  },
  {
   "cell_type": "code",
   "execution_count": 12,
   "id": "e9e650e2",
   "metadata": {},
   "outputs": [],
   "source": [
    "# Resetamos os indíces dos DFs apenas para não ficar embaralhado\n",
    "\n",
    "df_full_train = df_full_train.reset_index(drop=True)\n",
    "df_train = df_train.reset_index(drop=True)\n",
    "df_val = df_val.reset_index(drop=True)\n",
    "df_test = df_test.reset_index(drop=True)"
   ]
  },
  {
   "cell_type": "code",
   "execution_count": 13,
   "id": "f2b03416",
   "metadata": {},
   "outputs": [],
   "source": [
    "y_full_train = df_full_train['churn'].values\n",
    "y_train = df_train['churn'].values\n",
    "y_val = df_val['churn'].values\n",
    "y_test = df_test['churn'].values"
   ]
  },
  {
   "cell_type": "code",
   "execution_count": 14,
   "id": "10bc49c9",
   "metadata": {},
   "outputs": [],
   "source": [
    "# del df_full_train['churn']\n",
    "del df_train['churn']\n",
    "del df_val['churn']\n",
    "del df_test['churn']"
   ]
  },
  {
   "cell_type": "markdown",
   "id": "85ba00c2",
   "metadata": {},
   "source": [
    "### 4. EDA"
   ]
  },
  {
   "cell_type": "code",
   "execution_count": null,
   "id": "79336cda",
   "metadata": {},
   "outputs": [
    {
     "data": {
      "text/plain": [
       "customerid          0\n",
       "gender              0\n",
       "seniorcitizen       0\n",
       "partner             0\n",
       "dependents          0\n",
       "tenure              0\n",
       "phoneservice        0\n",
       "multiplelines       0\n",
       "internetservice     0\n",
       "onlinesecurity      0\n",
       "onlinebackup        0\n",
       "deviceprotection    0\n",
       "techsupport         0\n",
       "streamingtv         0\n",
       "streamingmovies     0\n",
       "contract            0\n",
       "paperlessbilling    0\n",
       "paymentmethod       0\n",
       "monthlycharges      0\n",
       "totalcharges        0\n",
       "churn               0\n",
       "dtype: int64"
      ]
     },
     "execution_count": 16,
     "metadata": {},
     "output_type": "execute_result"
    }
   ],
   "source": [
    "df_full_train.isnull().sum()\n",
    "# Verificamos que não temos mais valores nulos no df"
   ]
  },
  {
   "cell_type": "code",
   "execution_count": 24,
   "id": "30f8ca13",
   "metadata": {},
   "outputs": [
    {
     "data": {
      "text/plain": [
       "np.float64(0.27)"
      ]
     },
     "execution_count": 24,
     "metadata": {},
     "output_type": "execute_result"
    }
   ],
   "source": [
    "global_churn_rate = df_full_train['churn'].value_counts(normalize=True)[1]\n",
    "# Essa é uma forma de filtrar os valores. Calculei o % de cada categoria e depois chamei o valor da categoria que vale 1.\n",
    "\n",
    "round(global_churn_rate,2)"
   ]
  },
  {
   "cell_type": "code",
   "execution_count": 27,
   "id": "f55080a7",
   "metadata": {},
   "outputs": [],
   "source": [
    "\n",
    "numerical = ['tenure','monthlycharges','totalcharges']\n",
    "categorical = [\n",
    "                'gender', 'seniorcitizen', 'partner', 'dependents',\n",
    "                'phoneservice', 'multiplelines', 'internetservice',\n",
    "                'onlinesecurity', 'onlinebackup', 'deviceprotection', 'techsupport',\n",
    "                'streamingtv', 'streamingmovies', 'contract', 'paperlessbilling',\n",
    "                'paymentmethod']"
   ]
  },
  {
   "cell_type": "code",
   "execution_count": 48,
   "id": "f64e3e05",
   "metadata": {},
   "outputs": [
    {
     "name": "stdout",
     "output_type": "stream",
     "text": [
      "gender            | Total de categorias: 2 | Categorias: ['male', 'female']\n",
      "seniorcitizen     | Total de categorias: 2 | Categorias: [np.int64(0), np.int64(1)]\n",
      "partner           | Total de categorias: 2 | Categorias: ['yes', 'no']\n",
      "dependents        | Total de categorias: 2 | Categorias: ['yes', 'no']\n",
      "phoneservice      | Total de categorias: 2 | Categorias: ['yes', 'no']\n",
      "multiplelines     | Total de categorias: 3 | Categorias: ['no', 'yes', 'no_phone_service']\n",
      "internetservice   | Total de categorias: 3 | Categorias: ['no', 'dsl', 'fiber_optic']\n",
      "onlinesecurity    | Total de categorias: 3 | Categorias: ['no_internet_service', 'yes', 'no']\n",
      "onlinebackup      | Total de categorias: 3 | Categorias: ['no_internet_service', 'yes', 'no']\n",
      "deviceprotection  | Total de categorias: 3 | Categorias: ['no_internet_service', 'yes', 'no']\n",
      "techsupport       | Total de categorias: 3 | Categorias: ['no_internet_service', 'yes', 'no']\n",
      "streamingtv       | Total de categorias: 3 | Categorias: ['no_internet_service', 'no', 'yes']\n",
      "streamingmovies   | Total de categorias: 3 | Categorias: ['no_internet_service', 'yes', 'no']\n",
      "contract          | Total de categorias: 3 | Categorias: ['two_year', 'one_year', 'month-to-month']\n",
      "paperlessbilling  | Total de categorias: 2 | Categorias: ['no', 'yes']\n",
      "paymentmethod     | Total de categorias: 4 | Categorias: ['mailed_check', 'credit_card_(automatic)', 'bank_transfer_(automatic)', 'electronic_check']\n"
     ]
    }
   ],
   "source": [
    "for i in categorical:\n",
    "    print(f'{i:<17} | Total de categorias: {df_full_train[i].nunique()} | Categorias: {list(df_full_train[i].unique())}')"
   ]
  },
  {
   "cell_type": "markdown",
   "id": "57967338",
   "metadata": {},
   "source": [
    "### 5. Featuring Engineering"
   ]
  },
  {
   "cell_type": "code",
   "execution_count": 55,
   "id": "f03f1b4d",
   "metadata": {},
   "outputs": [
    {
     "name": "stdout",
     "output_type": "stream",
     "text": [
      "Taxa de Churn Global = 0.2700 | Taxa (homens) = 0.2632 | Taxa (mulheres) = 0.2768\n"
     ]
    }
   ],
   "source": [
    "male_churn_rate = df_full_train[df_full_train['gender']=='male']['churn'].mean()\n",
    "female_churn_rate = df_full_train[df_full_train['gender']=='female']['churn'].mean()\n",
    "\n",
    "print(f'Taxa de Churn Global = {global_churn_rate:.4f} | Taxa (homens) = {male_churn_rate:.4f} | Taxa (mulheres) = {female_churn_rate:.4f}')\n",
    "\n",
    "# Podemos ver que as taxas entre homens e mulheres são bem parecidas, indicando que talvez a variável de sexo não importe tanto"
   ]
  },
  {
   "cell_type": "code",
   "execution_count": 56,
   "id": "924ae04b",
   "metadata": {},
   "outputs": [
    {
     "name": "stdout",
     "output_type": "stream",
     "text": [
      "Taxa de Churn Global = 0.2700 | Taxa (Com Parceiro) = 0.2050 | Taxa (Sem Parceiro) = 0.3298\n"
     ]
    }
   ],
   "source": [
    "partner_churn = df_full_train[df_full_train['partner']=='yes']['churn'].mean()\n",
    "no_partner_churn = df_full_train[df_full_train['partner']=='no']['churn'].mean()\n",
    "\n",
    "print(f'Taxa de Churn Global = {global_churn_rate:.4f} | Taxa (Com Parceiro) = {partner_churn:.4f} | Taxa (Sem Parceiro) = {no_partner_churn:.4f}')\n",
    "\n",
    "# Podemos ver que há uma diferença considerável entre o churn em pessoas com parceiro e sem parceiro, indicando que essa talvez possa ser uma variável importante"
   ]
  },
  {
   "cell_type": "code",
   "execution_count": 76,
   "id": "75a36020",
   "metadata": {},
   "outputs": [
    {
     "name": "stderr",
     "output_type": "stream",
     "text": [
      "/tmp/ipykernel_49344/3938576978.py:2: FutureWarning: Series.__getitem__ treating keys as positions is deprecated. In a future version, integer keys will always be treated as labels (consistent with DataFrame behavior). To access a value by position, use `ser.iloc[pos]`\n",
      "  a[1]\n"
     ]
    },
    {
     "data": {
      "text/plain": [
       "np.float64(-39.129999999999995)"
      ]
     },
     "execution_count": 76,
     "metadata": {},
     "output_type": "execute_result"
    }
   ],
   "source": [
    "a = ((df_full_train.groupby('paymentmethod')['churn'].mean() / global_churn_rate - 1).round(4)*100)\n",
    "a[1]"
   ]
  },
  {
   "cell_type": "code",
   "execution_count": 82,
   "id": "7e4c9c74",
   "metadata": {},
   "outputs": [
    {
     "name": "stdout",
     "output_type": "stream",
     "text": [
      "gender\n",
      "- female: 2.54\n",
      "- male: -2.5\n",
      "seniorcitizen\n",
      "- 0: -10.26\n",
      "- 1: 53.12\n",
      "partner\n",
      "- no: 22.17\n",
      "- yes: -24.05\n",
      "dependents\n",
      "- no: 16.22\n",
      "- yes: -38.63\n",
      "phoneservice\n",
      "- no: -10.61\n",
      "- yes: 1.14\n",
      "multiplelines\n",
      "- no: -4.65\n",
      "- no_phone_service: -10.61\n",
      "- yes: 7.69\n",
      "internetservice\n",
      "- dsl: -28.75\n",
      "- fiber_optic: 57.49\n",
      "- no: -71.18\n",
      "onlinesecurity\n",
      "- no: 55.92\n",
      "- no_internet_service: -71.18\n",
      "- yes: -43.24\n",
      "onlinebackup\n",
      "- no: 49.77\n",
      "- no_internet_service: -71.18\n",
      "- yes: -19.53\n",
      "deviceprotection\n",
      "- no: 46.64\n",
      "- no_internet_service: -71.18\n",
      "- yes: -14.65\n",
      "techsupport\n",
      "- no: 55.17\n",
      "- no_internet_service: -71.18\n",
      "- yes: -40.76\n",
      "streamingtv\n",
      "- no: 26.99\n",
      "- no_internet_service: -71.18\n",
      "- yes: 12.13\n",
      "streamingmovies\n",
      "- no: 25.54\n",
      "- no_internet_service: -71.18\n",
      "- yes: 13.82\n",
      "contract\n",
      "- month-to-month: 59.91\n",
      "- one_year: -55.34\n",
      "- two_year: -89.53\n",
      "paperlessbilling\n",
      "- no: -36.26\n",
      "- yes: 25.26\n",
      "paymentmethod\n",
      "- bank_transfer_(automatic): -37.71\n",
      "- credit_card_(automatic): -39.13\n",
      "- electronic_check: 68.87\n",
      "- mailed_check: -28.19\n"
     ]
    }
   ],
   "source": [
    "for i in categorical:\n",
    "    a = (df_full_train.groupby(i)['churn'].mean() / global_churn_rate - 1).round(4)*100\n",
    "    print(f'{i}')\n",
    "    for j in range(len(a)):\n",
    "        print(f'- {a.index[j]}: {a.values[j].round(2)}')"
   ]
  }
 ],
 "metadata": {
  "kernelspec": {
   "display_name": "Python 3",
   "language": "python",
   "name": "python3"
  },
  "language_info": {
   "codemirror_mode": {
    "name": "ipython",
    "version": 3
   },
   "file_extension": ".py",
   "mimetype": "text/x-python",
   "name": "python",
   "nbconvert_exporter": "python",
   "pygments_lexer": "ipython3",
   "version": "3.12.1"
  }
 },
 "nbformat": 4,
 "nbformat_minor": 5
}
