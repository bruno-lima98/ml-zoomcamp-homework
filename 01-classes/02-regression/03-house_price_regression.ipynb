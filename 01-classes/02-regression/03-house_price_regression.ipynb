{
 "cells": [
  {
   "cell_type": "code",
   "execution_count": 31,
   "id": "68deb6fe-8361-4181-a21a-703ffb86879e",
   "metadata": {},
   "outputs": [],
   "source": [
    "import pandas as pd\n",
    "import numpy as np\n",
    "import matplotlib.pyplot as plt\n",
    "import seaborn as sns\n",
    "\n",
    "%matplotlib inline"
   ]
  },
  {
   "cell_type": "code",
   "execution_count": null,
   "id": "c7d912a7",
   "metadata": {},
   "outputs": [
    {
     "name": "stdout",
     "output_type": "stream",
     "text": [
      "--2025-09-01 22:08:30--  https://raw.githubusercontent.com/bruno-lima98/ml-zoomcamp-homework/refs/heads/main/01-classes/02-regression/housing_data.csv\n",
      "Resolving raw.githubusercontent.com (raw.githubusercontent.com)... 185.199.109.133, 185.199.110.133, 185.199.111.133, ...\n",
      "Connecting to raw.githubusercontent.com (raw.githubusercontent.com)|185.199.109.133|:443... connected.\n",
      "HTTP request sent, awaiting response... 200 OK\n",
      "Length: 29981 (29K) [text/plain]\n",
      "Saving to: ‘housing_data.csv’\n",
      "\n",
      "housing_data.csv    100%[===================>]  29.28K  --.-KB/s    in 0.001s  \n",
      "\n",
      "2025-09-01 22:08:30 (30.0 MB/s) - ‘housing_data.csv’ saved [29981/29981]\n",
      "\n"
     ]
    },
    {
     "data": {
      "text/html": [
       "<div>\n",
       "<style scoped>\n",
       "    .dataframe tbody tr th:only-of-type {\n",
       "        vertical-align: middle;\n",
       "    }\n",
       "\n",
       "    .dataframe tbody tr th {\n",
       "        vertical-align: top;\n",
       "    }\n",
       "\n",
       "    .dataframe thead th {\n",
       "        text-align: right;\n",
       "    }\n",
       "</style>\n",
       "<table border=\"1\" class=\"dataframe\">\n",
       "  <thead>\n",
       "    <tr style=\"text-align: right;\">\n",
       "      <th></th>\n",
       "      <th>price</th>\n",
       "      <th>area</th>\n",
       "      <th>bedrooms</th>\n",
       "      <th>bathrooms</th>\n",
       "      <th>stories</th>\n",
       "      <th>mainroad</th>\n",
       "      <th>guestroom</th>\n",
       "      <th>basement</th>\n",
       "      <th>hotwaterheating</th>\n",
       "      <th>airconditioning</th>\n",
       "      <th>parking</th>\n",
       "      <th>prefarea</th>\n",
       "      <th>furnishingstatus</th>\n",
       "    </tr>\n",
       "  </thead>\n",
       "  <tbody>\n",
       "    <tr>\n",
       "      <th>0</th>\n",
       "      <td>13300000</td>\n",
       "      <td>7420</td>\n",
       "      <td>4</td>\n",
       "      <td>2</td>\n",
       "      <td>3</td>\n",
       "      <td>yes</td>\n",
       "      <td>no</td>\n",
       "      <td>no</td>\n",
       "      <td>no</td>\n",
       "      <td>yes</td>\n",
       "      <td>2</td>\n",
       "      <td>yes</td>\n",
       "      <td>furnished</td>\n",
       "    </tr>\n",
       "    <tr>\n",
       "      <th>1</th>\n",
       "      <td>12250000</td>\n",
       "      <td>8960</td>\n",
       "      <td>4</td>\n",
       "      <td>4</td>\n",
       "      <td>4</td>\n",
       "      <td>yes</td>\n",
       "      <td>no</td>\n",
       "      <td>no</td>\n",
       "      <td>no</td>\n",
       "      <td>yes</td>\n",
       "      <td>3</td>\n",
       "      <td>no</td>\n",
       "      <td>furnished</td>\n",
       "    </tr>\n",
       "    <tr>\n",
       "      <th>2</th>\n",
       "      <td>12250000</td>\n",
       "      <td>9960</td>\n",
       "      <td>3</td>\n",
       "      <td>2</td>\n",
       "      <td>2</td>\n",
       "      <td>yes</td>\n",
       "      <td>no</td>\n",
       "      <td>yes</td>\n",
       "      <td>no</td>\n",
       "      <td>no</td>\n",
       "      <td>2</td>\n",
       "      <td>yes</td>\n",
       "      <td>semi-furnished</td>\n",
       "    </tr>\n",
       "    <tr>\n",
       "      <th>3</th>\n",
       "      <td>12215000</td>\n",
       "      <td>7500</td>\n",
       "      <td>4</td>\n",
       "      <td>2</td>\n",
       "      <td>2</td>\n",
       "      <td>yes</td>\n",
       "      <td>no</td>\n",
       "      <td>yes</td>\n",
       "      <td>no</td>\n",
       "      <td>yes</td>\n",
       "      <td>3</td>\n",
       "      <td>yes</td>\n",
       "      <td>furnished</td>\n",
       "    </tr>\n",
       "    <tr>\n",
       "      <th>4</th>\n",
       "      <td>11410000</td>\n",
       "      <td>7420</td>\n",
       "      <td>4</td>\n",
       "      <td>1</td>\n",
       "      <td>2</td>\n",
       "      <td>yes</td>\n",
       "      <td>yes</td>\n",
       "      <td>yes</td>\n",
       "      <td>no</td>\n",
       "      <td>yes</td>\n",
       "      <td>2</td>\n",
       "      <td>no</td>\n",
       "      <td>furnished</td>\n",
       "    </tr>\n",
       "  </tbody>\n",
       "</table>\n",
       "</div>"
      ],
      "text/plain": [
       "      price  area  bedrooms  bathrooms  stories mainroad guestroom basement  \\\n",
       "0  13300000  7420         4          2        3      yes        no       no   \n",
       "1  12250000  8960         4          4        4      yes        no       no   \n",
       "2  12250000  9960         3          2        2      yes        no      yes   \n",
       "3  12215000  7500         4          2        2      yes        no      yes   \n",
       "4  11410000  7420         4          1        2      yes       yes      yes   \n",
       "\n",
       "  hotwaterheating airconditioning  parking prefarea furnishingstatus  \n",
       "0              no             yes        2      yes        furnished  \n",
       "1              no             yes        3       no        furnished  \n",
       "2              no              no        2      yes   semi-furnished  \n",
       "3              no             yes        3      yes        furnished  \n",
       "4              no             yes        2       no        furnished  "
      ]
     },
     "execution_count": 2,
     "metadata": {},
     "output_type": "execute_result"
    }
   ],
   "source": [
    "# data = 'https://raw.githubusercontent.com/bruno-lima98/ml-zoomcamp-homework/refs/heads/main/01-classes/02-regression/housing_data.csv'\n",
    "# !wget $data\n",
    "df = pd.read_csv('housing_data.csv')\n",
    "df.head()"
   ]
  },
  {
   "cell_type": "code",
   "execution_count": 14,
   "id": "e57e4ba5",
   "metadata": {},
   "outputs": [
    {
     "data": {
      "text/html": [
       "<div>\n",
       "<style scoped>\n",
       "    .dataframe tbody tr th:only-of-type {\n",
       "        vertical-align: middle;\n",
       "    }\n",
       "\n",
       "    .dataframe tbody tr th {\n",
       "        vertical-align: top;\n",
       "    }\n",
       "\n",
       "    .dataframe thead th {\n",
       "        text-align: right;\n",
       "    }\n",
       "</style>\n",
       "<table border=\"1\" class=\"dataframe\">\n",
       "  <thead>\n",
       "    <tr style=\"text-align: right;\">\n",
       "      <th></th>\n",
       "      <th>price</th>\n",
       "      <th>area</th>\n",
       "      <th>bedrooms</th>\n",
       "      <th>bathrooms</th>\n",
       "      <th>stories</th>\n",
       "      <th>mainroad</th>\n",
       "      <th>guestroom</th>\n",
       "      <th>basement</th>\n",
       "      <th>hotwaterheating</th>\n",
       "      <th>airconditioning</th>\n",
       "      <th>parking</th>\n",
       "      <th>prefarea</th>\n",
       "      <th>furnishingstatus</th>\n",
       "    </tr>\n",
       "  </thead>\n",
       "  <tbody>\n",
       "    <tr>\n",
       "      <th>0</th>\n",
       "      <td>13300000</td>\n",
       "      <td>7420</td>\n",
       "      <td>4</td>\n",
       "      <td>2</td>\n",
       "      <td>3</td>\n",
       "      <td>yes</td>\n",
       "      <td>no</td>\n",
       "      <td>no</td>\n",
       "      <td>no</td>\n",
       "      <td>yes</td>\n",
       "      <td>2</td>\n",
       "      <td>yes</td>\n",
       "      <td>furnished</td>\n",
       "    </tr>\n",
       "    <tr>\n",
       "      <th>1</th>\n",
       "      <td>12250000</td>\n",
       "      <td>8960</td>\n",
       "      <td>4</td>\n",
       "      <td>4</td>\n",
       "      <td>4</td>\n",
       "      <td>yes</td>\n",
       "      <td>no</td>\n",
       "      <td>no</td>\n",
       "      <td>no</td>\n",
       "      <td>yes</td>\n",
       "      <td>3</td>\n",
       "      <td>no</td>\n",
       "      <td>furnished</td>\n",
       "    </tr>\n",
       "    <tr>\n",
       "      <th>2</th>\n",
       "      <td>12250000</td>\n",
       "      <td>9960</td>\n",
       "      <td>3</td>\n",
       "      <td>2</td>\n",
       "      <td>2</td>\n",
       "      <td>yes</td>\n",
       "      <td>no</td>\n",
       "      <td>yes</td>\n",
       "      <td>no</td>\n",
       "      <td>no</td>\n",
       "      <td>2</td>\n",
       "      <td>yes</td>\n",
       "      <td>semi_furnished</td>\n",
       "    </tr>\n",
       "    <tr>\n",
       "      <th>3</th>\n",
       "      <td>12215000</td>\n",
       "      <td>7500</td>\n",
       "      <td>4</td>\n",
       "      <td>2</td>\n",
       "      <td>2</td>\n",
       "      <td>yes</td>\n",
       "      <td>no</td>\n",
       "      <td>yes</td>\n",
       "      <td>no</td>\n",
       "      <td>yes</td>\n",
       "      <td>3</td>\n",
       "      <td>yes</td>\n",
       "      <td>furnished</td>\n",
       "    </tr>\n",
       "    <tr>\n",
       "      <th>4</th>\n",
       "      <td>11410000</td>\n",
       "      <td>7420</td>\n",
       "      <td>4</td>\n",
       "      <td>1</td>\n",
       "      <td>2</td>\n",
       "      <td>yes</td>\n",
       "      <td>yes</td>\n",
       "      <td>yes</td>\n",
       "      <td>no</td>\n",
       "      <td>yes</td>\n",
       "      <td>2</td>\n",
       "      <td>no</td>\n",
       "      <td>furnished</td>\n",
       "    </tr>\n",
       "  </tbody>\n",
       "</table>\n",
       "</div>"
      ],
      "text/plain": [
       "      price  area  bedrooms  bathrooms  stories mainroad guestroom basement  \\\n",
       "0  13300000  7420         4          2        3      yes        no       no   \n",
       "1  12250000  8960         4          4        4      yes        no       no   \n",
       "2  12250000  9960         3          2        2      yes        no      yes   \n",
       "3  12215000  7500         4          2        2      yes        no      yes   \n",
       "4  11410000  7420         4          1        2      yes       yes      yes   \n",
       "\n",
       "  hotwaterheating airconditioning  parking prefarea furnishingstatus  \n",
       "0              no             yes        2      yes        furnished  \n",
       "1              no             yes        3       no        furnished  \n",
       "2              no              no        2      yes   semi_furnished  \n",
       "3              no             yes        3      yes        furnished  \n",
       "4              no             yes        2       no        furnished  "
      ]
     },
     "execution_count": 14,
     "metadata": {},
     "output_type": "execute_result"
    }
   ],
   "source": [
    "str_col = list(df.dtypes[df.dtypes=='object'].index)\n",
    "\n",
    "for i in str_col:\n",
    "    df[i] = df[i].str.lower().str.replace('-','_')\n",
    "df.head()"
   ]
  },
  {
   "cell_type": "code",
   "execution_count": 15,
   "id": "f56a56e5",
   "metadata": {},
   "outputs": [
    {
     "data": {
      "text/plain": [
       "price               0\n",
       "area                0\n",
       "bedrooms            0\n",
       "bathrooms           0\n",
       "stories             0\n",
       "mainroad            0\n",
       "guestroom           0\n",
       "basement            0\n",
       "hotwaterheating     0\n",
       "airconditioning     0\n",
       "parking             0\n",
       "prefarea            0\n",
       "furnishingstatus    0\n",
       "dtype: int64"
      ]
     },
     "execution_count": 15,
     "metadata": {},
     "output_type": "execute_result"
    }
   ],
   "source": [
    "df.isnull().sum()"
   ]
  },
  {
   "cell_type": "code",
   "execution_count": 30,
   "id": "baa4d435",
   "metadata": {},
   "outputs": [
    {
     "name": "stdout",
     "output_type": "stream",
     "text": [
      "mainroad\n",
      "['yes' 'no']\n",
      "2\n",
      "guestroom\n",
      "['no' 'yes']\n",
      "2\n",
      "basement\n",
      "['no' 'yes']\n",
      "2\n",
      "hotwaterheating\n",
      "['no' 'yes']\n",
      "2\n",
      "airconditioning\n",
      "['yes' 'no']\n",
      "2\n",
      "prefarea\n",
      "['yes' 'no']\n",
      "2\n",
      "furnishingstatus\n",
      "['furnished' 'semi_furnished' 'unfurnished']\n",
      "3\n"
     ]
    }
   ],
   "source": [
    "for i in str_col:\n",
    "    print(i)\n",
    "    print(df[i].unique())\n",
    "    print(df[i].nunique())"
   ]
  },
  {
   "cell_type": "code",
   "execution_count": 35,
   "id": "fa2680b0",
   "metadata": {},
   "outputs": [
    {
     "data": {
      "text/plain": [
       "<Axes: xlabel='price', ylabel='Count'>"
      ]
     },
     "execution_count": 35,
     "metadata": {},
     "output_type": "execute_result"
    },
    {
     "data": {
      "image/png": "[encoded data removed]",
      "text/plain": [
       "<Figure size 640x480 with 1 Axes>"
      ]
     },
     "metadata": {},
     "output_type": "display_data"
    }
   ],
   "source": [
    "sns.histplot(df['price'],bins=50)"
   ]
  },
  {
   "cell_type": "code",
   "execution_count": 34,
   "id": "8d55ebca",
   "metadata": {},
   "outputs": [
    {
     "data": {
      "text/plain": [
       "<Axes: xlabel='price', ylabel='Count'>"
      ]
     },
     "execution_count": 34,
     "metadata": {},
     "output_type": "execute_result"
    },
    {
     "data": {
      "image/png": "[encoded data removed]",
      "text/plain": [
       "<Figure size 640x480 with 1 Axes>"
      ]
     },
     "metadata": {},
     "output_type": "display_data"
    }
   ],
   "source": [
    "sns.histplot(np.log1p(df['price']),bins=50)"
   ]
  },
  {
   "cell_type": "markdown",
   "id": "5d1de7fc",
   "metadata": {},
   "source": [
    "### Validation FW"
   ]
  },
  {
   "cell_type": "code",
   "execution_count": 134,
   "id": "e433c1d8",
   "metadata": {},
   "outputs": [],
   "source": [
    "cat_bin = ['mainroad','guestroom','basement','hotwaterheating','airconditioning','prefarea']\n",
    "df[cat_bin] = df[cat_bin].replace({'yes':1, 'no':0})\n"
   ]
  },
  {
   "cell_type": "code",
   "execution_count": 135,
   "id": "e9fa73f2",
   "metadata": {},
   "outputs": [
    {
     "data": {
      "text/plain": [
       "(545, 327, 109, 109, 545)"
      ]
     },
     "execution_count": 135,
     "metadata": {},
     "output_type": "execute_result"
    }
   ],
   "source": [
    "n = len(df)\n",
    "n_train = int(n*0.6)\n",
    "n_val = int(n*0.2)\n",
    "n_test = n - n_train - n_val\n",
    "\n",
    "n, n_train, n_val, n_test, n_train + n_val + n_test"
   ]
  },
  {
   "cell_type": "code",
   "execution_count": 136,
   "id": "3a288cf6",
   "metadata": {},
   "outputs": [],
   "source": [
    "ipx = np.arange(n)\n",
    "np.random.seed(15)\n",
    "np.random.shuffle(ipx)"
   ]
  },
  {
   "cell_type": "code",
   "execution_count": 137,
   "id": "bdd68423",
   "metadata": {},
   "outputs": [
    {
     "data": {
      "text/plain": [
       "(545, 327, 109, 109, 545)"
      ]
     },
     "execution_count": 137,
     "metadata": {},
     "output_type": "execute_result"
    }
   ],
   "source": [
    "df_train = df.iloc[ipx[:n_train]]\n",
    "df_val = df.iloc[ipx[n_train:n_train+n_val]]\n",
    "df_test = df.iloc[ipx[n_train+n_val:]]\n",
    "\n",
    "len(df) ,len(df_train), len(df_val), len(df_test), len(df_train) + len(df_val) + len(df_test)"
   ]
  },
  {
   "cell_type": "code",
   "execution_count": 138,
   "id": "f2a932d0",
   "metadata": {},
   "outputs": [],
   "source": [
    "df_train = df_train.reset_index(drop=True)\n",
    "df_val = df_val.reset_index(drop=True)\n",
    "df_test = df_test.reset_index(drop=True)"
   ]
  },
  {
   "cell_type": "code",
   "execution_count": 139,
   "id": "a3c267a2",
   "metadata": {},
   "outputs": [],
   "source": [
    "y_train = np.log1p(df_train['price'].values)\n",
    "y_val = np.log1p(df_val['price'].values)\n",
    "y_test = np.log1p(df_test['price'].values)"
   ]
  },
  {
   "cell_type": "code",
   "execution_count": 140,
   "id": "e2c927dd",
   "metadata": {},
   "outputs": [],
   "source": [
    "del df_train['price']\n",
    "del df_val['price']\n",
    "del df_test['price']"
   ]
  },
  {
   "cell_type": "markdown",
   "id": "22ec606b",
   "metadata": {},
   "source": [
    "### Linear Regression"
   ]
  },
  {
   "cell_type": "code",
   "execution_count": 75,
   "id": "53afef5c",
   "metadata": {},
   "outputs": [],
   "source": [
    "def prepare_X(df):\n",
    "    X = df[base].fillna(0).values\n",
    "\n",
    "    return X"
   ]
  },
  {
   "cell_type": "code",
   "execution_count": 81,
   "id": "1f49e349",
   "metadata": {},
   "outputs": [],
   "source": [
    "def train_linear_regression(X,y):\n",
    "    ones = np.ones(X.shape[0])\n",
    "    X = np.column_stack([ones,X])\n",
    "\n",
    "    XTX = X.T.dot(X)\n",
    "    XTX_inv = np.linalg.inv(XTX)\n",
    "    w_full = XTX_inv.dot(X.T).dot(y)\n",
    "    w0 = w_full[0]\n",
    "    w = w_full[1:]\n",
    "\n",
    "    return w0, w"
   ]
  },
  {
   "cell_type": "code",
   "execution_count": 160,
   "id": "236edc89",
   "metadata": {},
   "outputs": [],
   "source": [
    "def rmse(y,y_pred):\n",
    "    error = np.sqrt(((y_pred - y)**2).mean())\n",
    "    return (f'{(error*100).round(4)} %')"
   ]
  },
  {
   "cell_type": "code",
   "execution_count": 141,
   "id": "1076cec1",
   "metadata": {},
   "outputs": [],
   "source": [
    "base = ['area']\n",
    "X_train = prepare_X(df_train)\n",
    "w0, w = train_linear_regression(X_train, y_train)"
   ]
  },
  {
   "cell_type": "code",
   "execution_count": 142,
   "id": "29c8c710",
   "metadata": {},
   "outputs": [],
   "source": [
    "y_pred_train = w0 + X_train.dot(w)"
   ]
  },
  {
   "cell_type": "code",
   "execution_count": 143,
   "id": "3077db60",
   "metadata": {},
   "outputs": [
    {
     "data": {
      "text/plain": [
       "<Axes: ylabel='Count'>"
      ]
     },
     "execution_count": 143,
     "metadata": {},
     "output_type": "execute_result"
    },
    {
     "data": {
      "image/png": "[encoded data removed]",
      "text/plain": [
       "<Figure size 640x480 with 1 Axes>"
      ]
     },
     "metadata": {},
     "output_type": "display_data"
    }
   ],
   "source": [
    "sns.histplot(y_train,bins=50,alpha=1,color='red')\n",
    "sns.histplot(y_pred_train,bins=50,alpha=0.8,color='blue')"
   ]
  },
  {
   "cell_type": "code",
   "execution_count": 144,
   "id": "ee2bbbab",
   "metadata": {},
   "outputs": [
    {
     "name": "stdout",
     "output_type": "stream",
     "text": [
      "31.1149 %\n"
     ]
    }
   ],
   "source": [
    "rmse(y_train,y_pred_train)"
   ]
  },
  {
   "cell_type": "markdown",
   "id": "e930f01a",
   "metadata": {},
   "source": [
    "### Categorical Variables"
   ]
  },
  {
   "cell_type": "code",
   "execution_count": 145,
   "id": "d4a557df",
   "metadata": {},
   "outputs": [],
   "source": [
    "def prepare_X_cat(df):\n",
    "    df = df.copy()\n",
    "    features = base.copy()\n",
    "\n",
    "    for c, values in categories.items():\n",
    "        for i in values:\n",
    "            df['%s_%s' % (c,i)] = (df[c] == i).astype('int')\n",
    "            features.append('%s_%s' % (c,i))\n",
    "\n",
    "    features.extend(cat_bin)\n",
    "\n",
    "    X = df[features].fillna(0).values\n",
    "\n",
    "    return X"
   ]
  },
  {
   "cell_type": "code",
   "execution_count": 123,
   "id": "124ca05a",
   "metadata": {},
   "outputs": [],
   "source": [
    "def train_linear_regression_reg(X,y,r=0.001):\n",
    "    ones = np.ones(X.shape[0])\n",
    "    X = np.column_stack([ones,X])\n",
    "\n",
    "    XTX = X.T.dot(X)\n",
    "    XTX = XTX + r * np.eye(XTX.shape[0])\n",
    "\n",
    "    XTX_inv = np.linalg.inv(XTX)\n",
    "    w_full = XTX_inv.dot(X.T).dot(y)\n",
    "    w0 = w_full[0]\n",
    "    w = w_full[1:]\n",
    "\n",
    "    return w0, w"
   ]
  },
  {
   "cell_type": "code",
   "execution_count": null,
   "id": "e6572ab8",
   "metadata": {},
   "outputs": [],
   "source": [
    "cat_bin = ['mainroad','guestroom','basement','hotwaterheating','airconditioning','prefarea']\n"
   ]
  },
  {
   "cell_type": "code",
   "execution_count": 148,
   "id": "5b1bf271",
   "metadata": {},
   "outputs": [
    {
     "data": {
      "text/plain": [
       "{'bedrooms': [3, 2, 4, 5, 6, 1],\n",
       " 'bathrooms': [1, 2, 3, 4],\n",
       " 'stories': [2, 1, 4, 3],\n",
       " 'parking': [0, 1, 2, 3],\n",
       " 'furnishingstatus': ['semi_furnished', 'unfurnished', 'furnished']}"
      ]
     },
     "execution_count": 148,
     "metadata": {},
     "output_type": "execute_result"
    }
   ],
   "source": [
    "cat_features = ['bedrooms', 'bathrooms', 'stories', 'parking','furnishingstatus']\n",
    "\n",
    "categories = {}\n",
    "\n",
    "for i in cat_features:\n",
    "    categories[i] = list(df[i].value_counts().index)\n",
    "\n",
    "categories"
   ]
  },
  {
   "cell_type": "code",
   "execution_count": 129,
   "id": "c58e87b6",
   "metadata": {},
   "outputs": [
    {
     "data": {
      "text/html": [
       "<div>\n",
       "<style scoped>\n",
       "    .dataframe tbody tr th:only-of-type {\n",
       "        vertical-align: middle;\n",
       "    }\n",
       "\n",
       "    .dataframe tbody tr th {\n",
       "        vertical-align: top;\n",
       "    }\n",
       "\n",
       "    .dataframe thead th {\n",
       "        text-align: right;\n",
       "    }\n",
       "</style>\n",
       "<table border=\"1\" class=\"dataframe\">\n",
       "  <thead>\n",
       "    <tr style=\"text-align: right;\">\n",
       "      <th></th>\n",
       "      <th>price</th>\n",
       "      <th>area</th>\n",
       "      <th>bedrooms</th>\n",
       "      <th>bathrooms</th>\n",
       "      <th>stories</th>\n",
       "      <th>mainroad</th>\n",
       "      <th>guestroom</th>\n",
       "      <th>basement</th>\n",
       "      <th>hotwaterheating</th>\n",
       "      <th>airconditioning</th>\n",
       "      <th>parking</th>\n",
       "      <th>prefarea</th>\n",
       "      <th>furnishingstatus</th>\n",
       "    </tr>\n",
       "  </thead>\n",
       "  <tbody>\n",
       "    <tr>\n",
       "      <th>0</th>\n",
       "      <td>13300000</td>\n",
       "      <td>7420</td>\n",
       "      <td>4</td>\n",
       "      <td>2</td>\n",
       "      <td>3</td>\n",
       "      <td>yes</td>\n",
       "      <td>no</td>\n",
       "      <td>no</td>\n",
       "      <td>no</td>\n",
       "      <td>yes</td>\n",
       "      <td>2</td>\n",
       "      <td>yes</td>\n",
       "      <td>furnished</td>\n",
       "    </tr>\n",
       "    <tr>\n",
       "      <th>1</th>\n",
       "      <td>12250000</td>\n",
       "      <td>8960</td>\n",
       "      <td>4</td>\n",
       "      <td>4</td>\n",
       "      <td>4</td>\n",
       "      <td>yes</td>\n",
       "      <td>no</td>\n",
       "      <td>no</td>\n",
       "      <td>no</td>\n",
       "      <td>yes</td>\n",
       "      <td>3</td>\n",
       "      <td>no</td>\n",
       "      <td>furnished</td>\n",
       "    </tr>\n",
       "    <tr>\n",
       "      <th>2</th>\n",
       "      <td>12250000</td>\n",
       "      <td>9960</td>\n",
       "      <td>3</td>\n",
       "      <td>2</td>\n",
       "      <td>2</td>\n",
       "      <td>yes</td>\n",
       "      <td>no</td>\n",
       "      <td>yes</td>\n",
       "      <td>no</td>\n",
       "      <td>no</td>\n",
       "      <td>2</td>\n",
       "      <td>yes</td>\n",
       "      <td>semi_furnished</td>\n",
       "    </tr>\n",
       "    <tr>\n",
       "      <th>3</th>\n",
       "      <td>12215000</td>\n",
       "      <td>7500</td>\n",
       "      <td>4</td>\n",
       "      <td>2</td>\n",
       "      <td>2</td>\n",
       "      <td>yes</td>\n",
       "      <td>no</td>\n",
       "      <td>yes</td>\n",
       "      <td>no</td>\n",
       "      <td>yes</td>\n",
       "      <td>3</td>\n",
       "      <td>yes</td>\n",
       "      <td>furnished</td>\n",
       "    </tr>\n",
       "    <tr>\n",
       "      <th>4</th>\n",
       "      <td>11410000</td>\n",
       "      <td>7420</td>\n",
       "      <td>4</td>\n",
       "      <td>1</td>\n",
       "      <td>2</td>\n",
       "      <td>yes</td>\n",
       "      <td>yes</td>\n",
       "      <td>yes</td>\n",
       "      <td>no</td>\n",
       "      <td>yes</td>\n",
       "      <td>2</td>\n",
       "      <td>no</td>\n",
       "      <td>furnished</td>\n",
       "    </tr>\n",
       "  </tbody>\n",
       "</table>\n",
       "</div>"
      ],
      "text/plain": [
       "      price  area  bedrooms  bathrooms  stories mainroad guestroom basement  \\\n",
       "0  13300000  7420         4          2        3      yes        no       no   \n",
       "1  12250000  8960         4          4        4      yes        no       no   \n",
       "2  12250000  9960         3          2        2      yes        no      yes   \n",
       "3  12215000  7500         4          2        2      yes        no      yes   \n",
       "4  11410000  7420         4          1        2      yes       yes      yes   \n",
       "\n",
       "  hotwaterheating airconditioning  parking prefarea furnishingstatus  \n",
       "0              no             yes        2      yes        furnished  \n",
       "1              no             yes        3       no        furnished  \n",
       "2              no              no        2      yes   semi_furnished  \n",
       "3              no             yes        3      yes        furnished  \n",
       "4              no             yes        2       no        furnished  "
      ]
     },
     "execution_count": 129,
     "metadata": {},
     "output_type": "execute_result"
    }
   ],
   "source": [
    "df.head()"
   ]
  },
  {
   "cell_type": "code",
   "execution_count": 153,
   "id": "b853fb15",
   "metadata": {},
   "outputs": [],
   "source": [
    "X_train = prepare_X_cat(df_train)\n",
    "w0, w = train_linear_regression_reg(X_train, y_train,r=0.01)\n",
    "y_pred_train = w0 + X_train.dot(w)"
   ]
  },
  {
   "cell_type": "code",
   "execution_count": 167,
   "id": "c54b2955",
   "metadata": {},
   "outputs": [
    {
     "name": "stdout",
     "output_type": "stream",
     "text": [
      "Parâmetro r =  100.0 | RMSE_Val = 227.1275 % | RMSE_Test = 237.6229 % | w0 = 2.5731\n",
      "Parâmetro r =   10.0 | RMSE_Val =  63.4757 % | RMSE_Test =  81.2981 % | w0 = 4.9425\n",
      "Parâmetro r =    1.0 | RMSE_Val =    26.28 % | RMSE_Test =  38.2984 % | w0 = 6.1123\n",
      "Parâmetro r =    0.1 | RMSE_Val =  25.1382 % | RMSE_Test =  35.9138 % | w0 = 6.3307\n",
      "Parâmetro r =   0.01 | RMSE_Val =   25.147 % | RMSE_Test =  35.8334 % | w0 = 6.3552\n",
      "Parâmetro r =  0.001 | RMSE_Val =  25.1493 % | RMSE_Test =  35.8274 % | w0 = 6.3577\n",
      "Parâmetro r = 0.0001 | RMSE_Val =  25.1498 % | RMSE_Test =   35.827 % | w0 = 6.3578\n",
      "Parâmetro r =  1e-05 | RMSE_Val =  25.1349 % | RMSE_Test =  35.8406 % | w0 = 6.3569\n",
      "Parâmetro r =  1e-06 | RMSE_Val =  34.7412 % | RMSE_Test =  41.5736 % | w0 = 5.3791\n",
      "Parâmetro r =  1e-07 | RMSE_Val =  568.484 % | RMSE_Test = 566.0629 % | w0 = 66.139\n"
     ]
    }
   ],
   "source": [
    "par = []\n",
    "for i in range (10):\n",
    "    par.append(100/(10**i))\n",
    "\n",
    "for i in par:\n",
    "    X_train = prepare_X_cat(df_train)\n",
    "    w0, w = train_linear_regression_reg(X_train, y_train,r=i)\n",
    "    y_pred_train = w0 + X_train.dot(w)\n",
    "\n",
    "    X_val = prepare_X_cat(df_val)\n",
    "    y_pred_val = w0 + X_val.dot(w)\n",
    "    X_test = prepare_X_cat(df_test)\n",
    "    y_pred_test = w0 + X_test.dot(w)\n",
    "\n",
    "    score_val = rmse(y_val,y_pred_val)\n",
    "    score_test = rmse(y_test,y_pred_test)\n",
    "\n",
    "    print(f'Parâmetro r = {i:>6} | RMSE_Val = {score_val:>10} | RMSE_Test = {score_test:>10} | w0 = {w0.round(4)}')\n",
    "\n",
    "# r = 0.0001 "
   ]
  },
  {
   "cell_type": "code",
   "execution_count": 155,
   "id": "4a928875",
   "metadata": {},
   "outputs": [
    {
     "data": {
      "text/plain": [
       "<Axes: ylabel='Count'>"
      ]
     },
     "execution_count": 155,
     "metadata": {},
     "output_type": "execute_result"
    },
    {
     "data": {
      "image/png": "[encoded data removed]",
      "text/plain": [
       "<Figure size 640x480 with 1 Axes>"
      ]
     },
     "metadata": {},
     "output_type": "display_data"
    }
   ],
   "source": [
    "sns.histplot(y_val,bins=50,alpha=1,color='red')\n",
    "sns.histplot(y_pred_val,bins=50,alpha=0.8,color='blue')"
   ]
  },
  {
   "cell_type": "code",
   "execution_count": 157,
   "id": "137e97e3",
   "metadata": {},
   "outputs": [
    {
     "data": {
      "text/plain": [
       "<Axes: ylabel='Count'>"
      ]
     },
     "execution_count": 157,
     "metadata": {},
     "output_type": "execute_result"
    },
    {
     "data": {
      "image/png": "[encoded data removed]",
      "text/plain": [
       "<Figure size 640x480 with 1 Axes>"
      ]
     },
     "metadata": {},
     "output_type": "display_data"
    }
   ],
   "source": [
    "sns.histplot(y_test,bins=50,alpha=1,color='red')\n",
    "sns.histplot(y_pred_test,bins=50,alpha=0.8,color='blue')"
   ]
  },
  {
   "cell_type": "markdown",
   "id": "17035ee0",
   "metadata": {},
   "source": [
    "### Using the Model"
   ]
  },
  {
   "cell_type": "code",
   "execution_count": 168,
   "id": "614b0e30",
   "metadata": {},
   "outputs": [],
   "source": [
    "df_full_train = pd.concat([df_train, df_val])\n",
    "df_full_train = df_full_train.reset_index(drop=True)\n",
    "y_full_train = np.concat([y_train, y_val])"
   ]
  },
  {
   "cell_type": "code",
   "execution_count": 169,
   "id": "704253fb",
   "metadata": {},
   "outputs": [],
   "source": [
    "X_full_train = prepare_X_cat(df_full_train)\n",
    "w0, w = train_linear_regression_reg(X_full_train, y_full_train,r=0.0001)\n",
    "y_pred_full_train = w0 + X_full_train.dot(w)"
   ]
  },
  {
   "cell_type": "code",
   "execution_count": 170,
   "id": "bfa61121",
   "metadata": {},
   "outputs": [
    {
     "data": {
      "text/plain": [
       "'32.0778 %'"
      ]
     },
     "execution_count": 170,
     "metadata": {},
     "output_type": "execute_result"
    }
   ],
   "source": [
    "X_test = prepare_X_cat(df_test)\n",
    "y_pred_test = w0 + X_test.dot(w)\n",
    "\n",
    "score_test = rmse(y_test,y_pred_test)\n",
    "score_test"
   ]
  },
  {
   "cell_type": "code",
   "execution_count": 176,
   "id": "31d73f27",
   "metadata": {},
   "outputs": [],
   "source": [
    "house = df_test.iloc[50].to_dict()"
   ]
  },
  {
   "cell_type": "code",
   "execution_count": 174,
   "id": "82daffe5",
   "metadata": {},
   "outputs": [
    {
     "data": {
      "text/plain": [
       "np.float64(5714108.100617604)"
      ]
     },
     "execution_count": 174,
     "metadata": {},
     "output_type": "execute_result"
    }
   ],
   "source": [
    "df_small = pd.DataFrame([house])\n",
    "X_small = prepare_X_cat(df_small)\n",
    "y_pred_small = w0 + X_small.dot(w)\n",
    "np.expm1(y_pred_small[0])"
   ]
  },
  {
   "cell_type": "code",
   "execution_count": 175,
   "id": "ecdb9be2",
   "metadata": {},
   "outputs": [
    {
     "data": {
      "text/plain": [
       "np.float64(7420000.000000001)"
      ]
     },
     "execution_count": 175,
     "metadata": {},
     "output_type": "execute_result"
    }
   ],
   "source": [
    "np.expm1(y_test[50])"
   ]
  },
  {
   "cell_type": "code",
   "execution_count": 178,
   "id": "0c002ec0",
   "metadata": {},
   "outputs": [
    {
     "data": {
      "text/plain": [
       "<matplotlib.collections.PathCollection at 0x76792799d970>"
      ]
     },
     "execution_count": 178,
     "metadata": {},
     "output_type": "execute_result"
    },
    {
     "data": {
      "image/png": "[encoded data removed]",
      "text/plain": [
       "<Figure size 640x480 with 1 Axes>"
      ]
     },
     "metadata": {},
     "output_type": "display_data"
    }
   ],
   "source": [
    "plt.scatter(np.expm1(y_test),np.expm1(y_pred_test),alpha=0.6)\n"
   ]
  }
 ],
 "metadata": {
  "kernelspec": {
   "display_name": "Python 3",
   "language": "python",
   "name": "python3"
  },
  "language_info": {
   "codemirror_mode": {
    "name": "ipython",
    "version": 3
   },
   "file_extension": ".py",
   "mimetype": "text/x-python",
   "name": "python",
   "nbconvert_exporter": "python",
   "pygments_lexer": "ipython3",
   "version": "3.12.1"
  }
 },
 "nbformat": 4,
 "nbformat_minor": 5
}
