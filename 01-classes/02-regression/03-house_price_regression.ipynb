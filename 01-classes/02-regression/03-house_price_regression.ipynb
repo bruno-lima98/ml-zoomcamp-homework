{
 "cells": [
  {
   "cell_type": "code",
   "execution_count": 96,
   "id": "68deb6fe-8361-4181-a21a-703ffb86879e",
   "metadata": {},
   "outputs": [],
   "source": [
    "import pandas as pd\n",
    "import numpy as np\n",
    "import matplotlib.pyplot as plt\n",
    "import seaborn as sns\n",
    "\n",
    "%matplotlib inline"
   ]
  },
  {
   "cell_type": "code",
   "execution_count": 97,
   "id": "c7d912a7",
   "metadata": {},
   "outputs": [
    {
     "data": {
      "text/html": [
       "<div>\n",
       "<style scoped>\n",
       "    .dataframe tbody tr th:only-of-type {\n",
       "        vertical-align: middle;\n",
       "    }\n",
       "\n",
       "    .dataframe tbody tr th {\n",
       "        vertical-align: top;\n",
       "    }\n",
       "\n",
       "    .dataframe thead th {\n",
       "        text-align: right;\n",
       "    }\n",
       "</style>\n",
       "<table border=\"1\" class=\"dataframe\">\n",
       "  <thead>\n",
       "    <tr style=\"text-align: right;\">\n",
       "      <th></th>\n",
       "      <th>price</th>\n",
       "      <th>area</th>\n",
       "      <th>bedrooms</th>\n",
       "      <th>bathrooms</th>\n",
       "      <th>stories</th>\n",
       "      <th>mainroad</th>\n",
       "      <th>guestroom</th>\n",
       "      <th>basement</th>\n",
       "      <th>hotwaterheating</th>\n",
       "      <th>airconditioning</th>\n",
       "      <th>parking</th>\n",
       "      <th>prefarea</th>\n",
       "      <th>furnishingstatus</th>\n",
       "    </tr>\n",
       "  </thead>\n",
       "  <tbody>\n",
       "    <tr>\n",
       "      <th>0</th>\n",
       "      <td>13300000</td>\n",
       "      <td>7420</td>\n",
       "      <td>4</td>\n",
       "      <td>2</td>\n",
       "      <td>3</td>\n",
       "      <td>yes</td>\n",
       "      <td>no</td>\n",
       "      <td>no</td>\n",
       "      <td>no</td>\n",
       "      <td>yes</td>\n",
       "      <td>2</td>\n",
       "      <td>yes</td>\n",
       "      <td>furnished</td>\n",
       "    </tr>\n",
       "    <tr>\n",
       "      <th>1</th>\n",
       "      <td>12250000</td>\n",
       "      <td>8960</td>\n",
       "      <td>4</td>\n",
       "      <td>4</td>\n",
       "      <td>4</td>\n",
       "      <td>yes</td>\n",
       "      <td>no</td>\n",
       "      <td>no</td>\n",
       "      <td>no</td>\n",
       "      <td>yes</td>\n",
       "      <td>3</td>\n",
       "      <td>no</td>\n",
       "      <td>furnished</td>\n",
       "    </tr>\n",
       "    <tr>\n",
       "      <th>2</th>\n",
       "      <td>12250000</td>\n",
       "      <td>9960</td>\n",
       "      <td>3</td>\n",
       "      <td>2</td>\n",
       "      <td>2</td>\n",
       "      <td>yes</td>\n",
       "      <td>no</td>\n",
       "      <td>yes</td>\n",
       "      <td>no</td>\n",
       "      <td>no</td>\n",
       "      <td>2</td>\n",
       "      <td>yes</td>\n",
       "      <td>semi-furnished</td>\n",
       "    </tr>\n",
       "    <tr>\n",
       "      <th>3</th>\n",
       "      <td>12215000</td>\n",
       "      <td>7500</td>\n",
       "      <td>4</td>\n",
       "      <td>2</td>\n",
       "      <td>2</td>\n",
       "      <td>yes</td>\n",
       "      <td>no</td>\n",
       "      <td>yes</td>\n",
       "      <td>no</td>\n",
       "      <td>yes</td>\n",
       "      <td>3</td>\n",
       "      <td>yes</td>\n",
       "      <td>furnished</td>\n",
       "    </tr>\n",
       "    <tr>\n",
       "      <th>4</th>\n",
       "      <td>11410000</td>\n",
       "      <td>7420</td>\n",
       "      <td>4</td>\n",
       "      <td>1</td>\n",
       "      <td>2</td>\n",
       "      <td>yes</td>\n",
       "      <td>yes</td>\n",
       "      <td>yes</td>\n",
       "      <td>no</td>\n",
       "      <td>yes</td>\n",
       "      <td>2</td>\n",
       "      <td>no</td>\n",
       "      <td>furnished</td>\n",
       "    </tr>\n",
       "  </tbody>\n",
       "</table>\n",
       "</div>"
      ],
      "text/plain": [
       "      price  area  bedrooms  bathrooms  stories mainroad guestroom basement  \\\n",
       "0  13300000  7420         4          2        3      yes        no       no   \n",
       "1  12250000  8960         4          4        4      yes        no       no   \n",
       "2  12250000  9960         3          2        2      yes        no      yes   \n",
       "3  12215000  7500         4          2        2      yes        no      yes   \n",
       "4  11410000  7420         4          1        2      yes       yes      yes   \n",
       "\n",
       "  hotwaterheating airconditioning  parking prefarea furnishingstatus  \n",
       "0              no             yes        2      yes        furnished  \n",
       "1              no             yes        3       no        furnished  \n",
       "2              no              no        2      yes   semi-furnished  \n",
       "3              no             yes        3      yes        furnished  \n",
       "4              no             yes        2       no        furnished  "
      ]
     },
     "execution_count": 97,
     "metadata": {},
     "output_type": "execute_result"
    }
   ],
   "source": [
    "# data = 'https://raw.githubusercontent.com/bruno-lima98/ml-zoomcamp-homework/refs/heads/main/01-classes/02-regression/housing_data.csv'\n",
    "# !wget $data\n",
    "df = pd.read_csv('housing_data.csv')\n",
    "df.head()"
   ]
  },
  {
   "cell_type": "code",
   "execution_count": 98,
   "id": "e57e4ba5",
   "metadata": {},
   "outputs": [
    {
     "data": {
      "text/html": [
       "<div>\n",
       "<style scoped>\n",
       "    .dataframe tbody tr th:only-of-type {\n",
       "        vertical-align: middle;\n",
       "    }\n",
       "\n",
       "    .dataframe tbody tr th {\n",
       "        vertical-align: top;\n",
       "    }\n",
       "\n",
       "    .dataframe thead th {\n",
       "        text-align: right;\n",
       "    }\n",
       "</style>\n",
       "<table border=\"1\" class=\"dataframe\">\n",
       "  <thead>\n",
       "    <tr style=\"text-align: right;\">\n",
       "      <th></th>\n",
       "      <th>price</th>\n",
       "      <th>area</th>\n",
       "      <th>bedrooms</th>\n",
       "      <th>bathrooms</th>\n",
       "      <th>stories</th>\n",
       "      <th>mainroad</th>\n",
       "      <th>guestroom</th>\n",
       "      <th>basement</th>\n",
       "      <th>hotwaterheating</th>\n",
       "      <th>airconditioning</th>\n",
       "      <th>parking</th>\n",
       "      <th>prefarea</th>\n",
       "      <th>furnishingstatus</th>\n",
       "    </tr>\n",
       "  </thead>\n",
       "  <tbody>\n",
       "    <tr>\n",
       "      <th>0</th>\n",
       "      <td>13300000</td>\n",
       "      <td>7420</td>\n",
       "      <td>4</td>\n",
       "      <td>2</td>\n",
       "      <td>3</td>\n",
       "      <td>yes</td>\n",
       "      <td>no</td>\n",
       "      <td>no</td>\n",
       "      <td>no</td>\n",
       "      <td>yes</td>\n",
       "      <td>2</td>\n",
       "      <td>yes</td>\n",
       "      <td>furnished</td>\n",
       "    </tr>\n",
       "    <tr>\n",
       "      <th>1</th>\n",
       "      <td>12250000</td>\n",
       "      <td>8960</td>\n",
       "      <td>4</td>\n",
       "      <td>4</td>\n",
       "      <td>4</td>\n",
       "      <td>yes</td>\n",
       "      <td>no</td>\n",
       "      <td>no</td>\n",
       "      <td>no</td>\n",
       "      <td>yes</td>\n",
       "      <td>3</td>\n",
       "      <td>no</td>\n",
       "      <td>furnished</td>\n",
       "    </tr>\n",
       "    <tr>\n",
       "      <th>2</th>\n",
       "      <td>12250000</td>\n",
       "      <td>9960</td>\n",
       "      <td>3</td>\n",
       "      <td>2</td>\n",
       "      <td>2</td>\n",
       "      <td>yes</td>\n",
       "      <td>no</td>\n",
       "      <td>yes</td>\n",
       "      <td>no</td>\n",
       "      <td>no</td>\n",
       "      <td>2</td>\n",
       "      <td>yes</td>\n",
       "      <td>semi_furnished</td>\n",
       "    </tr>\n",
       "    <tr>\n",
       "      <th>3</th>\n",
       "      <td>12215000</td>\n",
       "      <td>7500</td>\n",
       "      <td>4</td>\n",
       "      <td>2</td>\n",
       "      <td>2</td>\n",
       "      <td>yes</td>\n",
       "      <td>no</td>\n",
       "      <td>yes</td>\n",
       "      <td>no</td>\n",
       "      <td>yes</td>\n",
       "      <td>3</td>\n",
       "      <td>yes</td>\n",
       "      <td>furnished</td>\n",
       "    </tr>\n",
       "    <tr>\n",
       "      <th>4</th>\n",
       "      <td>11410000</td>\n",
       "      <td>7420</td>\n",
       "      <td>4</td>\n",
       "      <td>1</td>\n",
       "      <td>2</td>\n",
       "      <td>yes</td>\n",
       "      <td>yes</td>\n",
       "      <td>yes</td>\n",
       "      <td>no</td>\n",
       "      <td>yes</td>\n",
       "      <td>2</td>\n",
       "      <td>no</td>\n",
       "      <td>furnished</td>\n",
       "    </tr>\n",
       "  </tbody>\n",
       "</table>\n",
       "</div>"
      ],
      "text/plain": [
       "      price  area  bedrooms  bathrooms  stories mainroad guestroom basement  \\\n",
       "0  13300000  7420         4          2        3      yes        no       no   \n",
       "1  12250000  8960         4          4        4      yes        no       no   \n",
       "2  12250000  9960         3          2        2      yes        no      yes   \n",
       "3  12215000  7500         4          2        2      yes        no      yes   \n",
       "4  11410000  7420         4          1        2      yes       yes      yes   \n",
       "\n",
       "  hotwaterheating airconditioning  parking prefarea furnishingstatus  \n",
       "0              no             yes        2      yes        furnished  \n",
       "1              no             yes        3       no        furnished  \n",
       "2              no              no        2      yes   semi_furnished  \n",
       "3              no             yes        3      yes        furnished  \n",
       "4              no             yes        2       no        furnished  "
      ]
     },
     "execution_count": 98,
     "metadata": {},
     "output_type": "execute_result"
    }
   ],
   "source": [
    "str_col = list(df.dtypes[df.dtypes=='object'].index)\n",
    "\n",
    "for i in str_col:\n",
    "    df[i] = df[i].str.lower().str.replace('-','_')\n",
    "df.head()"
   ]
  },
  {
   "cell_type": "code",
   "execution_count": 99,
   "id": "f56a56e5",
   "metadata": {},
   "outputs": [
    {
     "data": {
      "text/plain": [
       "price               0\n",
       "area                0\n",
       "bedrooms            0\n",
       "bathrooms           0\n",
       "stories             0\n",
       "mainroad            0\n",
       "guestroom           0\n",
       "basement            0\n",
       "hotwaterheating     0\n",
       "airconditioning     0\n",
       "parking             0\n",
       "prefarea            0\n",
       "furnishingstatus    0\n",
       "dtype: int64"
      ]
     },
     "execution_count": 99,
     "metadata": {},
     "output_type": "execute_result"
    }
   ],
   "source": [
    "df.isnull().sum()"
   ]
  },
  {
   "cell_type": "code",
   "execution_count": 100,
   "id": "baa4d435",
   "metadata": {},
   "outputs": [
    {
     "name": "stdout",
     "output_type": "stream",
     "text": [
      "mainroad\n",
      "['yes' 'no']\n",
      "2\n",
      "guestroom\n",
      "['no' 'yes']\n",
      "2\n",
      "basement\n",
      "['no' 'yes']\n",
      "2\n",
      "hotwaterheating\n",
      "['no' 'yes']\n",
      "2\n",
      "airconditioning\n",
      "['yes' 'no']\n",
      "2\n",
      "prefarea\n",
      "['yes' 'no']\n",
      "2\n",
      "furnishingstatus\n",
      "['furnished' 'semi_furnished' 'unfurnished']\n",
      "3\n"
     ]
    }
   ],
   "source": [
    "for i in str_col:\n",
    "    print(i)\n",
    "    print(df[i].unique())\n",
    "    print(df[i].nunique())"
   ]
  },
  {
   "cell_type": "code",
   "execution_count": 101,
   "id": "fa2680b0",
   "metadata": {},
   "outputs": [
    {
     "data": {
      "text/plain": [
       "<Axes: xlabel='price', ylabel='Count'>"
      ]
     },
     "execution_count": 101,
     "metadata": {},
     "output_type": "execute_result"
    },
    {
     "data": {
      "image/png": "[encoded data removed]",
      "text/plain": [
       "<Figure size 640x480 with 1 Axes>"
      ]
     },
     "metadata": {},
     "output_type": "display_data"
    }
   ],
   "source": [
    "sns.histplot(df['price'],bins=50)"
   ]
  },
  {
   "cell_type": "code",
   "execution_count": 102,
   "id": "8d55ebca",
   "metadata": {},
   "outputs": [
    {
     "data": {
      "text/plain": [
       "<Axes: xlabel='price', ylabel='Count'>"
      ]
     },
     "execution_count": 102,
     "metadata": {},
     "output_type": "execute_result"
    },
    {
     "data": {
      "image/png": "[encoded data removed]",
      "text/plain": [
       "<Figure size 640x480 with 1 Axes>"
      ]
     },
     "metadata": {},
     "output_type": "display_data"
    }
   ],
   "source": [
    "sns.histplot(np.log1p(df['price']),bins=50)"
   ]
  },
  {
   "cell_type": "markdown",
   "id": "5d1de7fc",
   "metadata": {},
   "source": [
    "### Validation FW"
   ]
  },
  {
   "cell_type": "code",
   "execution_count": 103,
   "id": "e433c1d8",
   "metadata": {},
   "outputs": [
    {
     "name": "stderr",
     "output_type": "stream",
     "text": [
      "/tmp/ipykernel_2184/1627065206.py:2: FutureWarning: Downcasting behavior in `replace` is deprecated and will be removed in a future version. To retain the old behavior, explicitly call `result.infer_objects(copy=False)`. To opt-in to the future behavior, set `pd.set_option('future.no_silent_downcasting', True)`\n",
      "  df[cat_bin] = df[cat_bin].replace({'yes':1, 'no':0})\n"
     ]
    }
   ],
   "source": [
    "cat_bin = ['mainroad','guestroom','basement','hotwaterheating','airconditioning','prefarea']\n",
    "df[cat_bin] = df[cat_bin].replace({'yes':1, 'no':0})\n"
   ]
  },
  {
   "cell_type": "code",
   "execution_count": 104,
   "id": "e9fa73f2",
   "metadata": {},
   "outputs": [
    {
     "data": {
      "text/plain": [
       "(545, 327, 109, 109, 545)"
      ]
     },
     "execution_count": 104,
     "metadata": {},
     "output_type": "execute_result"
    }
   ],
   "source": [
    "n = len(df)\n",
    "n_train = int(n*0.6)\n",
    "n_val = int(n*0.2)\n",
    "n_test = n - n_train - n_val\n",
    "\n",
    "n, n_train, n_val, n_test, n_train + n_val + n_test"
   ]
  },
  {
   "cell_type": "code",
   "execution_count": 105,
   "id": "3a288cf6",
   "metadata": {},
   "outputs": [],
   "source": [
    "ipx = np.arange(n)\n",
    "np.random.seed(10)\n",
    "np.random.shuffle(ipx)"
   ]
  },
  {
   "cell_type": "code",
   "execution_count": 106,
   "id": "bdd68423",
   "metadata": {},
   "outputs": [
    {
     "data": {
      "text/plain": [
       "(545, 327, 109, 109, 545)"
      ]
     },
     "execution_count": 106,
     "metadata": {},
     "output_type": "execute_result"
    }
   ],
   "source": [
    "df_train = df.iloc[ipx[:n_train]]\n",
    "df_val = df.iloc[ipx[n_train:n_train+n_val]]\n",
    "df_test = df.iloc[ipx[n_train+n_val:]]\n",
    "\n",
    "len(df) ,len(df_train), len(df_val), len(df_test), len(df_train) + len(df_val) + len(df_test)"
   ]
  },
  {
   "cell_type": "code",
   "execution_count": 107,
   "id": "f2a932d0",
   "metadata": {},
   "outputs": [],
   "source": [
    "df_train = df_train.reset_index(drop=True)\n",
    "df_val = df_val.reset_index(drop=True)\n",
    "df_test = df_test.reset_index(drop=True)"
   ]
  },
  {
   "cell_type": "code",
   "execution_count": 108,
   "id": "a3c267a2",
   "metadata": {},
   "outputs": [],
   "source": [
    "y_train = np.log1p(df_train['price'].values)\n",
    "y_val = np.log1p(df_val['price'].values)\n",
    "y_test = np.log1p(df_test['price'].values)"
   ]
  },
  {
   "cell_type": "code",
   "execution_count": 109,
   "id": "e2c927dd",
   "metadata": {},
   "outputs": [],
   "source": [
    "del df_train['price']\n",
    "del df_val['price']\n",
    "del df_test['price']"
   ]
  },
  {
   "cell_type": "markdown",
   "id": "22ec606b",
   "metadata": {},
   "source": [
    "### Linear Regression"
   ]
  },
  {
   "cell_type": "code",
   "execution_count": 110,
   "id": "53afef5c",
   "metadata": {},
   "outputs": [],
   "source": [
    "def prepare_X(df):\n",
    "    X = df[base].fillna(0).values\n",
    "\n",
    "    return X"
   ]
  },
  {
   "cell_type": "code",
   "execution_count": 111,
   "id": "1f49e349",
   "metadata": {},
   "outputs": [],
   "source": [
    "def train_linear_regression(X,y):\n",
    "    ones = np.ones(X.shape[0])\n",
    "    X = np.column_stack([ones,X])\n",
    "\n",
    "    XTX = X.T.dot(X)\n",
    "    XTX_inv = np.linalg.inv(XTX)\n",
    "    w_full = XTX_inv.dot(X.T).dot(y)\n",
    "    w0 = w_full[0]\n",
    "    w = w_full[1:]\n",
    "\n",
    "    return w0, w"
   ]
  },
  {
   "cell_type": "code",
   "execution_count": 112,
   "id": "236edc89",
   "metadata": {},
   "outputs": [],
   "source": [
    "def rmse(y,y_pred):\n",
    "    error = np.sqrt(((y_pred - y)**2).mean())\n",
    "    return (f'{(error*100).round(4)} %')"
   ]
  },
  {
   "cell_type": "code",
   "execution_count": 113,
   "id": "1076cec1",
   "metadata": {},
   "outputs": [],
   "source": [
    "base = ['area']\n",
    "X_train = prepare_X(df_train)\n",
    "w0, w = train_linear_regression(X_train, y_train)"
   ]
  },
  {
   "cell_type": "code",
   "execution_count": 114,
   "id": "29c8c710",
   "metadata": {},
   "outputs": [],
   "source": [
    "y_pred_train = w0 + X_train.dot(w)"
   ]
  },
  {
   "cell_type": "code",
   "execution_count": 115,
   "id": "3077db60",
   "metadata": {},
   "outputs": [
    {
     "data": {
      "text/plain": [
       "<Axes: ylabel='Count'>"
      ]
     },
     "execution_count": 115,
     "metadata": {},
     "output_type": "execute_result"
    },
    {
     "data": {
      "image/png": "[encoded data removed]",
      "text/plain": [
       "<Figure size 640x480 with 1 Axes>"
      ]
     },
     "metadata": {},
     "output_type": "display_data"
    }
   ],
   "source": [
    "sns.histplot(y_train,bins=50,alpha=1,color='red')\n",
    "sns.histplot(y_pred_train,bins=50,alpha=0.8,color='blue')"
   ]
  },
  {
   "cell_type": "code",
   "execution_count": 116,
   "id": "ee2bbbab",
   "metadata": {},
   "outputs": [
    {
     "data": {
      "text/plain": [
       "'30.2412 %'"
      ]
     },
     "execution_count": 116,
     "metadata": {},
     "output_type": "execute_result"
    }
   ],
   "source": [
    "rmse(y_train,y_pred_train)"
   ]
  },
  {
   "cell_type": "markdown",
   "id": "e930f01a",
   "metadata": {},
   "source": [
    "### Categorical Variables"
   ]
  },
  {
   "cell_type": "code",
   "execution_count": 117,
   "id": "d4a557df",
   "metadata": {},
   "outputs": [],
   "source": [
    "def prepare_X_cat(df):\n",
    "    df = df.copy()\n",
    "    features = base.copy()\n",
    "\n",
    "    for c, values in categories.items():\n",
    "        for i in values:\n",
    "            df['%s_%s' % (c,i)] = (df[c] == i).astype('int')\n",
    "            features.append('%s_%s' % (c,i))\n",
    "\n",
    "    features.extend(cat_bin)\n",
    "\n",
    "    X = df[features].fillna(0).values\n",
    "\n",
    "    return X"
   ]
  },
  {
   "cell_type": "code",
   "execution_count": 118,
   "id": "124ca05a",
   "metadata": {},
   "outputs": [],
   "source": [
    "def train_linear_regression_reg(X,y,r=0.001):\n",
    "    ones = np.ones(X.shape[0])\n",
    "    X = np.column_stack([ones,X])\n",
    "\n",
    "    XTX = X.T.dot(X)\n",
    "    XTX = XTX + r * np.eye(XTX.shape[0])\n",
    "\n",
    "    XTX_inv = np.linalg.inv(XTX)\n",
    "    w_full = XTX_inv.dot(X.T).dot(y)\n",
    "    w0 = w_full[0]\n",
    "    w = w_full[1:]\n",
    "\n",
    "    return w0, w"
   ]
  },
  {
   "cell_type": "code",
   "execution_count": 119,
   "id": "e6572ab8",
   "metadata": {},
   "outputs": [],
   "source": [
    "cat_bin = ['mainroad','guestroom','basement','hotwaterheating','airconditioning','prefarea']\n"
   ]
  },
  {
   "cell_type": "code",
   "execution_count": 120,
   "id": "5b1bf271",
   "metadata": {},
   "outputs": [
    {
     "data": {
      "text/plain": [
       "{'bedrooms': [3, 2, 4, 5, 6, 1],\n",
       " 'bathrooms': [1, 2, 3, 4],\n",
       " 'stories': [2, 1, 4, 3],\n",
       " 'parking': [0, 1, 2, 3],\n",
       " 'furnishingstatus': ['semi_furnished', 'unfurnished', 'furnished']}"
      ]
     },
     "execution_count": 120,
     "metadata": {},
     "output_type": "execute_result"
    }
   ],
   "source": [
    "cat_features = ['bedrooms', 'bathrooms', 'stories', 'parking','furnishingstatus']\n",
    "\n",
    "categories = {}\n",
    "\n",
    "for i in cat_features:\n",
    "    categories[i] = list(df[i].value_counts().index)\n",
    "\n",
    "categories"
   ]
  },
  {
   "cell_type": "code",
   "execution_count": 121,
   "id": "c58e87b6",
   "metadata": {},
   "outputs": [
    {
     "data": {
      "text/html": [
       "<div>\n",
       "<style scoped>\n",
       "    .dataframe tbody tr th:only-of-type {\n",
       "        vertical-align: middle;\n",
       "    }\n",
       "\n",
       "    .dataframe tbody tr th {\n",
       "        vertical-align: top;\n",
       "    }\n",
       "\n",
       "    .dataframe thead th {\n",
       "        text-align: right;\n",
       "    }\n",
       "</style>\n",
       "<table border=\"1\" class=\"dataframe\">\n",
       "  <thead>\n",
       "    <tr style=\"text-align: right;\">\n",
       "      <th></th>\n",
       "      <th>price</th>\n",
       "      <th>area</th>\n",
       "      <th>bedrooms</th>\n",
       "      <th>bathrooms</th>\n",
       "      <th>stories</th>\n",
       "      <th>mainroad</th>\n",
       "      <th>guestroom</th>\n",
       "      <th>basement</th>\n",
       "      <th>hotwaterheating</th>\n",
       "      <th>airconditioning</th>\n",
       "      <th>parking</th>\n",
       "      <th>prefarea</th>\n",
       "      <th>furnishingstatus</th>\n",
       "    </tr>\n",
       "  </thead>\n",
       "  <tbody>\n",
       "    <tr>\n",
       "      <th>0</th>\n",
       "      <td>13300000</td>\n",
       "      <td>7420</td>\n",
       "      <td>4</td>\n",
       "      <td>2</td>\n",
       "      <td>3</td>\n",
       "      <td>1</td>\n",
       "      <td>0</td>\n",
       "      <td>0</td>\n",
       "      <td>0</td>\n",
       "      <td>1</td>\n",
       "      <td>2</td>\n",
       "      <td>1</td>\n",
       "      <td>furnished</td>\n",
       "    </tr>\n",
       "    <tr>\n",
       "      <th>1</th>\n",
       "      <td>12250000</td>\n",
       "      <td>8960</td>\n",
       "      <td>4</td>\n",
       "      <td>4</td>\n",
       "      <td>4</td>\n",
       "      <td>1</td>\n",
       "      <td>0</td>\n",
       "      <td>0</td>\n",
       "      <td>0</td>\n",
       "      <td>1</td>\n",
       "      <td>3</td>\n",
       "      <td>0</td>\n",
       "      <td>furnished</td>\n",
       "    </tr>\n",
       "    <tr>\n",
       "      <th>2</th>\n",
       "      <td>12250000</td>\n",
       "      <td>9960</td>\n",
       "      <td>3</td>\n",
       "      <td>2</td>\n",
       "      <td>2</td>\n",
       "      <td>1</td>\n",
       "      <td>0</td>\n",
       "      <td>1</td>\n",
       "      <td>0</td>\n",
       "      <td>0</td>\n",
       "      <td>2</td>\n",
       "      <td>1</td>\n",
       "      <td>semi_furnished</td>\n",
       "    </tr>\n",
       "    <tr>\n",
       "      <th>3</th>\n",
       "      <td>12215000</td>\n",
       "      <td>7500</td>\n",
       "      <td>4</td>\n",
       "      <td>2</td>\n",
       "      <td>2</td>\n",
       "      <td>1</td>\n",
       "      <td>0</td>\n",
       "      <td>1</td>\n",
       "      <td>0</td>\n",
       "      <td>1</td>\n",
       "      <td>3</td>\n",
       "      <td>1</td>\n",
       "      <td>furnished</td>\n",
       "    </tr>\n",
       "    <tr>\n",
       "      <th>4</th>\n",
       "      <td>11410000</td>\n",
       "      <td>7420</td>\n",
       "      <td>4</td>\n",
       "      <td>1</td>\n",
       "      <td>2</td>\n",
       "      <td>1</td>\n",
       "      <td>1</td>\n",
       "      <td>1</td>\n",
       "      <td>0</td>\n",
       "      <td>1</td>\n",
       "      <td>2</td>\n",
       "      <td>0</td>\n",
       "      <td>furnished</td>\n",
       "    </tr>\n",
       "  </tbody>\n",
       "</table>\n",
       "</div>"
      ],
      "text/plain": [
       "      price  area  bedrooms  bathrooms  stories  mainroad  guestroom  \\\n",
       "0  13300000  7420         4          2        3         1          0   \n",
       "1  12250000  8960         4          4        4         1          0   \n",
       "2  12250000  9960         3          2        2         1          0   \n",
       "3  12215000  7500         4          2        2         1          0   \n",
       "4  11410000  7420         4          1        2         1          1   \n",
       "\n",
       "   basement  hotwaterheating  airconditioning  parking  prefarea  \\\n",
       "0         0                0                1        2         1   \n",
       "1         0                0                1        3         0   \n",
       "2         1                0                0        2         1   \n",
       "3         1                0                1        3         1   \n",
       "4         1                0                1        2         0   \n",
       "\n",
       "  furnishingstatus  \n",
       "0        furnished  \n",
       "1        furnished  \n",
       "2   semi_furnished  \n",
       "3        furnished  \n",
       "4        furnished  "
      ]
     },
     "execution_count": 121,
     "metadata": {},
     "output_type": "execute_result"
    }
   ],
   "source": [
    "df.head()"
   ]
  },
  {
   "cell_type": "code",
   "execution_count": 122,
   "id": "b853fb15",
   "metadata": {},
   "outputs": [],
   "source": [
    "X_train = prepare_X_cat(df_train)\n",
    "w0, w = train_linear_regression_reg(X_train, y_train,r=0.01)\n",
    "y_pred_train = w0 + X_train.dot(w)"
   ]
  },
  {
   "cell_type": "code",
   "execution_count": 123,
   "id": "c54b2955",
   "metadata": {},
   "outputs": [
    {
     "name": "stdout",
     "output_type": "stream",
     "text": [
      "Parâmetro r =  100.0 | RMSE_Val = 215.9596 % | RMSE_Test = 226.8625 % | w0 = 2.6148\n",
      "Parâmetro r =   10.0 | RMSE_Val =  61.1917 % | RMSE_Test =  81.3574 % | w0 = 4.9621\n",
      "Parâmetro r =    1.0 | RMSE_Val =  23.8962 % | RMSE_Test =  34.1845 % | w0 = 6.2403\n",
      "Parâmetro r =    0.1 | RMSE_Val =  22.2585 % | RMSE_Test =  30.1992 % | w0 = 6.5811\n",
      "Parâmetro r =   0.01 | RMSE_Val =  22.2743 % | RMSE_Test =  30.0693 % | w0 = 6.6291\n"
     ]
    },
    {
     "name": "stdout",
     "output_type": "stream",
     "text": [
      "Parâmetro r =  0.001 | RMSE_Val =  22.2784 % | RMSE_Test =  30.0613 % | w0 = 6.6342\n",
      "Parâmetro r = 0.0001 | RMSE_Val =  22.2788 % | RMSE_Test =  30.0615 % | w0 = 6.6349\n",
      "Parâmetro r =  1e-05 | RMSE_Val =  22.2789 % | RMSE_Test =  30.0163 % | w0 = 6.6351\n",
      "Parâmetro r =  1e-06 | RMSE_Val =  22.2789 % | RMSE_Test =  21.7171 % | w0 = 6.0709\n",
      "Parâmetro r =  1e-07 | RMSE_Val =  22.2789 % | RMSE_Test = 4022.5644 % | w0 = -69.8557\n"
     ]
    }
   ],
   "source": [
    "par = []\n",
    "for i in range (10):\n",
    "    par.append(100/(10**i))\n",
    "\n",
    "for i in par:\n",
    "    X_train = prepare_X_cat(df_train)\n",
    "    w0, w = train_linear_regression_reg(X_train, y_train,r=i)\n",
    "    y_pred_train = w0 + X_train.dot(w)\n",
    "\n",
    "    X_val = prepare_X_cat(df_val)\n",
    "    y_pred_val = w0 + X_val.dot(w)\n",
    "    X_test = prepare_X_cat(df_test)\n",
    "    y_pred_test = w0 + X_test.dot(w)\n",
    "\n",
    "    score_val = rmse(y_val,y_pred_val)\n",
    "    score_test = rmse(y_test,y_pred_test)\n",
    "\n",
    "    print(f'Parâmetro r = {i:>6} | RMSE_Val = {score_val:>10} | RMSE_Test = {score_test:>10} | w0 = {w0.round(4)}')\n",
    "\n",
    "# r = 0.0001 "
   ]
  },
  {
   "cell_type": "code",
   "execution_count": 124,
   "id": "d2ed29f1",
   "metadata": {},
   "outputs": [
    {
     "data": {
      "text/plain": [
       "array([15.54026175, 15.4511711 , 15.57321075, 15.27051357, 15.11231132,\n",
       "       15.18564906, 15.45378997, 15.48279174, 15.77340194, 15.14535199,\n",
       "       15.65990571, 15.43274124, 15.20814521, 14.99464621, 15.78138748,\n",
       "       15.04762857, 15.21583438, 15.2304878 , 15.22321827, 15.20703471,\n",
       "       15.38587698, 15.58800486, 15.48752637, 15.89292565, 15.43150522,\n",
       "       15.59055924, 14.92007194, 14.97836071, 14.95385701, 15.70315   ,\n",
       "       14.9291379 , 15.829062  , 15.74563628, 15.28856528, 15.14539915,\n",
       "       14.96678233, 15.39534407, 14.93208965, 14.94396937, 15.43721821,\n",
       "       15.45164608, 14.83848578, 15.78289455, 15.020386  , 15.24535832,\n",
       "       15.4087643 , 15.3605608 , 15.43880034, 15.08552625, 15.14919147,\n",
       "       14.86576756, 14.89008657, 15.27013122, 14.97217656, 15.81601014,\n",
       "       15.57467006, 15.61310872, 15.12008789, 15.25934   , 15.82976305,\n",
       "       15.22472272, 15.07232695, 15.35037185, 14.94927855, 15.07062712,\n",
       "       15.20651364, 15.4610182 , 15.95796186, 15.32855574, 15.6998251 ,\n",
       "       15.39445315, 15.49587888, 15.57896676, 15.64755705, 15.37238147,\n",
       "       15.04408926, 15.45514681, 14.76644222, 15.15763309, 15.44328187,\n",
       "       15.14801778, 15.49164382, 15.38936005, 15.0710304 , 15.15329172,\n",
       "       15.13434214, 15.29312987, 15.78672224, 15.27332788, 15.19963132,\n",
       "       15.12711796, 15.02773016, 14.95385701, 15.02967314, 15.02148123,\n",
       "       15.80201936, 15.6361768 , 15.10342903, 15.05225109, 15.16741503,\n",
       "       15.56958278, 15.55373207, 15.10973327, 15.213717  , 15.37630364,\n",
       "       15.37332978, 15.30759692, 15.74297569, 15.65621947])"
      ]
     },
     "execution_count": 124,
     "metadata": {},
     "output_type": "execute_result"
    }
   ],
   "source": [
    "y_pred_val"
   ]
  },
  {
   "cell_type": "code",
   "execution_count": 134,
   "id": "4a928875",
   "metadata": {},
   "outputs": [
    {
     "data": {
      "text/plain": [
       "<Axes: ylabel='Count'>"
      ]
     },
     "execution_count": 134,
     "metadata": {},
     "output_type": "execute_result"
    },
    {
     "data": {
      "image/png": "[encoded data removed]",
      "text/plain": [
       "<Figure size 640x480 with 1 Axes>"
      ]
     },
     "metadata": {},
     "output_type": "display_data"
    }
   ],
   "source": [
    "sns.histplot(y_val,bins=50,alpha=1,color='red')\n",
    "sns.histplot(y_pred_val,bins=50,alpha=0.8,color='blue')"
   ]
  },
  {
   "cell_type": "code",
   "execution_count": 126,
   "id": "137e97e3",
   "metadata": {},
   "outputs": [
    {
     "data": {
      "text/plain": [
       "<Axes: ylabel='Count'>"
      ]
     },
     "execution_count": 126,
     "metadata": {},
     "output_type": "execute_result"
    },
    {
     "data": {
      "image/png": "[encoded data removed]",
      "text/plain": [
       "<Figure size 640x480 with 1 Axes>"
      ]
     },
     "metadata": {},
     "output_type": "display_data"
    }
   ],
   "source": [
    "sns.histplot(y_test,bins=50,alpha=1,color='red')\n",
    "sns.histplot(y_pred_test,bins=50,alpha=0.8,color='blue')"
   ]
  },
  {
   "cell_type": "markdown",
   "id": "17035ee0",
   "metadata": {},
   "source": [
    "### Using the Model"
   ]
  },
  {
   "cell_type": "code",
   "execution_count": 127,
   "id": "614b0e30",
   "metadata": {},
   "outputs": [],
   "source": [
    "df_full_train = pd.concat([df_train, df_val])\n",
    "df_full_train = df_full_train.reset_index(drop=True)\n",
    "y_full_train = np.concat([y_train, y_val])"
   ]
  },
  {
   "cell_type": "code",
   "execution_count": 128,
   "id": "704253fb",
   "metadata": {},
   "outputs": [],
   "source": [
    "X_full_train = prepare_X_cat(df_full_train)\n",
    "w0, w = train_linear_regression_reg(X_full_train, y_full_train,r=0.0001)\n",
    "y_pred_full_train = w0 + X_full_train.dot(w)"
   ]
  },
  {
   "cell_type": "code",
   "execution_count": 129,
   "id": "bfa61121",
   "metadata": {},
   "outputs": [
    {
     "data": {
      "text/plain": [
       "'29.597 %'"
      ]
     },
     "execution_count": 129,
     "metadata": {},
     "output_type": "execute_result"
    }
   ],
   "source": [
    "X_test = prepare_X_cat(df_test)\n",
    "y_pred_test = w0 + X_test.dot(w)\n",
    "\n",
    "score_test = rmse(y_test,y_pred_test)\n",
    "score_test"
   ]
  },
  {
   "cell_type": "code",
   "execution_count": 130,
   "id": "31d73f27",
   "metadata": {},
   "outputs": [],
   "source": [
    "house = df_test.iloc[50].to_dict()"
   ]
  },
  {
   "cell_type": "code",
   "execution_count": 131,
   "id": "82daffe5",
   "metadata": {},
   "outputs": [
    {
     "data": {
      "text/plain": [
       "np.float64(4602242.009967822)"
      ]
     },
     "execution_count": 131,
     "metadata": {},
     "output_type": "execute_result"
    }
   ],
   "source": [
    "df_small = pd.DataFrame([house])\n",
    "X_small = prepare_X_cat(df_small)\n",
    "y_pred_small = w0 + X_small.dot(w)\n",
    "np.expm1(y_pred_small[0])"
   ]
  },
  {
   "cell_type": "code",
   "execution_count": 132,
   "id": "ecdb9be2",
   "metadata": {},
   "outputs": [
    {
     "data": {
      "text/plain": [
       "np.float64(5599999.999999999)"
      ]
     },
     "execution_count": 132,
     "metadata": {},
     "output_type": "execute_result"
    }
   ],
   "source": [
    "np.expm1(y_test[50])"
   ]
  },
  {
   "cell_type": "code",
   "execution_count": 151,
   "id": "0c002ec0",
   "metadata": {},
   "outputs": [
    {
     "data": {
      "text/plain": [
       "Text(0, 0.5, 'Preço Previsto (R$)')"
      ]
     },
     "execution_count": 151,
     "metadata": {},
     "output_type": "execute_result"
    },
    {
     "data": {
      "image/png": "[encoded data removed]",
      "text/plain": [
       "<Figure size 640x480 with 1 Axes>"
      ]
     },
     "metadata": {},
     "output_type": "display_data"
    }
   ],
   "source": [
    "plt.scatter(np.expm1(y_test),np.expm1(y_pred_test),alpha=0.6)\n",
    "plt.xlabel(\"Preço Real (R$)\")\n",
    "plt.ylabel(\"Preço Previsto (R$)\")\n"
   ]
  },
  {
   "cell_type": "code",
   "execution_count": 150,
   "id": "0fe866e7",
   "metadata": {},
   "outputs": [
    {
     "data": {
      "image/png": "[encoded data removed]",
      "text/plain": [
       "<Figure size 640x480 with 1 Axes>"
      ]
     },
     "metadata": {},
     "output_type": "display_data"
    }
   ],
   "source": [
    "import numpy as np\n",
    "import matplotlib.pyplot as plt\n",
    "\n",
    "# Supondo:\n",
    "# - X_test é um array NumPy (shape: [n_amostras, n_features])\n",
    "# - df_test['area'] é a coluna com a área original\n",
    "# - w0 é o intercepto\n",
    "# - w é o vetor de coeficientes\n",
    "# - y_pred_test já foi calculado\n",
    "\n",
    "# índice da coluna 'area' no X_test\n",
    "idx_area = 0   # <- ajuste se 'area' não for a primeira coluna\n",
    "\n",
    "# valores de área para desenhar a curva\n",
    "x_sorted = np.linspace(df_test['area'].min(), df_test['area'].max(), 100)\n",
    "\n",
    "# médias das features\n",
    "means = X_test.mean(axis=0)\n",
    "\n",
    "# cria matriz repetida (todas as linhas iguais às médias)\n",
    "X_line = np.tile(means, (len(x_sorted), 1))\n",
    "\n",
    "# substitui a coluna 'area' pelos valores variando\n",
    "X_line[:, idx_area] = x_sorted\n",
    "\n",
    "# calcula previsões da reta\n",
    "y_line = w0 + X_line.dot(w)\n",
    "y_line = np.expm1(y_line)\n",
    "\n",
    "# scatter dos pontos reais previstos\n",
    "plt.scatter(df_test['area'], np.expm1(y_pred_test), alpha=0.6, label=\"Previsões\")\n",
    "\n",
    "# plota a curva em função da área\n",
    "plt.plot(x_sorted, y_line, color=\"red\", linewidth=2, label=\"Relação com área\")\n",
    "\n",
    "plt.xlabel(\"Área\")\n",
    "plt.ylabel(\"Preço previsto\")\n",
    "plt.legend()\n",
    "plt.show()\n"
   ]
  }
 ],
 "metadata": {
  "kernelspec": {
   "display_name": "Python 3",
   "language": "python",
   "name": "python3"
  },
  "language_info": {
   "codemirror_mode": {
    "name": "ipython",
    "version": 3
   },
   "file_extension": ".py",
   "mimetype": "text/x-python",
   "name": "python",
   "nbconvert_exporter": "python",
   "pygments_lexer": "ipython3",
   "version": "3.12.1"
  }
 },
 "nbformat": 4,
 "nbformat_minor": 5
}
