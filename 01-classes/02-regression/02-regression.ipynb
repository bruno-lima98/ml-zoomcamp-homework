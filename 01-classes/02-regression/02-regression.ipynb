{
 "cells": [
  {
   "cell_type": "markdown",
   "id": "35070035-70cd-48fb-b0e6-c1f0cf33b488",
   "metadata": {},
   "source": [
    "##  2. Linear Regression ML"
   ]
  },
  {
   "cell_type": "markdown",
   "id": "228f9353-b0cf-4533-ab82-534f6fee69b7",
   "metadata": {},
   "source": [
    "### 2.1. Librearies "
   ]
  },
  {
   "cell_type": "code",
   "execution_count": 1,
   "id": "122b1756-206e-432b-a651-750bca3164ad",
   "metadata": {},
   "outputs": [],
   "source": [
    "import pandas as pd\n",
    "import numpy as np"
   ]
  },
  {
   "cell_type": "code",
   "execution_count": null,
   "id": "fc8961e4-6db0-48a5-b980-d6c7a741267c",
   "metadata": {},
   "outputs": [],
   "source": []
  }
 ],
 "metadata": {
  "kernelspec": {
   "display_name": "Python 3 (ipykernel)",
   "language": "python",
   "name": "python3"
  },
  "language_info": {
   "codemirror_mode": {
    "name": "ipython",
    "version": 3
   },
   "file_extension": ".py",
   "mimetype": "text/x-python",
   "name": "python",
   "nbconvert_exporter": "python",
   "pygments_lexer": "ipython3",
   "version": "3.12.1"
  }
 },
 "nbformat": 4,
 "nbformat_minor": 5
}
